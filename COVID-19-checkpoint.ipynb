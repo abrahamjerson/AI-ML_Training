{
 "cells": [
  {
   "cell_type": "markdown",
   "metadata": {
    "colab_type": "text",
    "id": "CiQi-9ekiSq2"
   },
   "source": [
    "\n",
    "\n",
    "## **COVID-19_DATA_VISUALIZATION**\n",
    "\n"
   ]
  },
  {
   "cell_type": "code",
   "execution_count": 1,
   "metadata": {
    "colab": {},
    "colab_type": "code",
    "id": "6NamrdNWIjqt"
   },
   "outputs": [],
   "source": [
    "import pandas as pd\n",
    "import seaborn as sns\n",
    "import matplotlib.pyplot as plt\n",
    "import plotly.graph_objects as go\n",
    "import plotly.express as px\n",
    "from plotly.subplots import make_subplots"
   ]
  },
  {
   "cell_type": "code",
   "execution_count": 2,
   "metadata": {
    "colab": {},
    "colab_type": "code",
    "id": "W4X5klrXJB_Z"
   },
   "outputs": [
    {
     "name": "stderr",
     "output_type": "stream",
     "text": [
      "C:\\Users\\ASUS\\AppData\\Local\\Temp\\ipykernel_5528\\1465457096.py:2: FutureWarning: The error_bad_lines argument has been deprecated and will be removed in a future version. Use on_bad_lines in the future.\n",
      "\n",
      "\n",
      "  df = pd.read_csv(url, error_bad_lines=False,parse_dates=['Date'])\n"
     ]
    }
   ],
   "source": [
    "url = 'https://raw.githubusercontent.com/datasets/covid-19/master/data/time-series-19-covid-combined.csv'\n",
    "df = pd.read_csv(url, error_bad_lines=False,parse_dates=['Date'])"
   ]
  },
  {
   "cell_type": "code",
   "execution_count": 3,
   "metadata": {
    "colab": {
     "base_uri": "https://localhost:8080/",
     "height": 402
    },
    "colab_type": "code",
    "executionInfo": {
     "elapsed": 911,
     "status": "ok",
     "timestamp": 1589172981738,
     "user": {
      "displayName": "Deepak Jose",
      "photoUrl": "https://lh3.googleusercontent.com/a-/AOh14GjPz2Q_nQIqFSY-5VHbhxCi_i1RYg5bb26GXY1ysg=s64",
      "userId": "15969960042202200125"
     },
     "user_tz": -330
    },
    "id": "P5BptmGcJK4X",
    "outputId": "aaa5f43f-f3f4-4629-a861-551324b48574"
   },
   "outputs": [
    {
     "data": {
      "text/html": [
       "<div>\n",
       "<style scoped>\n",
       "    .dataframe tbody tr th:only-of-type {\n",
       "        vertical-align: middle;\n",
       "    }\n",
       "\n",
       "    .dataframe tbody tr th {\n",
       "        vertical-align: top;\n",
       "    }\n",
       "\n",
       "    .dataframe thead th {\n",
       "        text-align: right;\n",
       "    }\n",
       "</style>\n",
       "<table border=\"1\" class=\"dataframe\">\n",
       "  <thead>\n",
       "    <tr style=\"text-align: right;\">\n",
       "      <th></th>\n",
       "      <th>Date</th>\n",
       "      <th>country</th>\n",
       "      <th>Province/State</th>\n",
       "      <th>Confirmed</th>\n",
       "      <th>Recovered</th>\n",
       "      <th>Deaths</th>\n",
       "    </tr>\n",
       "  </thead>\n",
       "  <tbody>\n",
       "    <tr>\n",
       "      <th>0</th>\n",
       "      <td>2020-01-22</td>\n",
       "      <td>Afghanistan</td>\n",
       "      <td>NaN</td>\n",
       "      <td>0</td>\n",
       "      <td>0.0</td>\n",
       "      <td>0</td>\n",
       "    </tr>\n",
       "    <tr>\n",
       "      <th>1</th>\n",
       "      <td>2020-01-23</td>\n",
       "      <td>Afghanistan</td>\n",
       "      <td>NaN</td>\n",
       "      <td>0</td>\n",
       "      <td>0.0</td>\n",
       "      <td>0</td>\n",
       "    </tr>\n",
       "    <tr>\n",
       "      <th>2</th>\n",
       "      <td>2020-01-24</td>\n",
       "      <td>Afghanistan</td>\n",
       "      <td>NaN</td>\n",
       "      <td>0</td>\n",
       "      <td>0.0</td>\n",
       "      <td>0</td>\n",
       "    </tr>\n",
       "    <tr>\n",
       "      <th>3</th>\n",
       "      <td>2020-01-25</td>\n",
       "      <td>Afghanistan</td>\n",
       "      <td>NaN</td>\n",
       "      <td>0</td>\n",
       "      <td>0.0</td>\n",
       "      <td>0</td>\n",
       "    </tr>\n",
       "    <tr>\n",
       "      <th>4</th>\n",
       "      <td>2020-01-26</td>\n",
       "      <td>Afghanistan</td>\n",
       "      <td>NaN</td>\n",
       "      <td>0</td>\n",
       "      <td>0.0</td>\n",
       "      <td>0</td>\n",
       "    </tr>\n",
       "    <tr>\n",
       "      <th>...</th>\n",
       "      <td>...</td>\n",
       "      <td>...</td>\n",
       "      <td>...</td>\n",
       "      <td>...</td>\n",
       "      <td>...</td>\n",
       "      <td>...</td>\n",
       "    </tr>\n",
       "    <tr>\n",
       "      <th>231739</th>\n",
       "      <td>2022-04-12</td>\n",
       "      <td>Zimbabwe</td>\n",
       "      <td>NaN</td>\n",
       "      <td>247094</td>\n",
       "      <td>0.0</td>\n",
       "      <td>5460</td>\n",
       "    </tr>\n",
       "    <tr>\n",
       "      <th>231740</th>\n",
       "      <td>2022-04-13</td>\n",
       "      <td>Zimbabwe</td>\n",
       "      <td>NaN</td>\n",
       "      <td>247160</td>\n",
       "      <td>0.0</td>\n",
       "      <td>5460</td>\n",
       "    </tr>\n",
       "    <tr>\n",
       "      <th>231741</th>\n",
       "      <td>2022-04-14</td>\n",
       "      <td>Zimbabwe</td>\n",
       "      <td>NaN</td>\n",
       "      <td>247208</td>\n",
       "      <td>0.0</td>\n",
       "      <td>5462</td>\n",
       "    </tr>\n",
       "    <tr>\n",
       "      <th>231742</th>\n",
       "      <td>2022-04-15</td>\n",
       "      <td>Zimbabwe</td>\n",
       "      <td>NaN</td>\n",
       "      <td>247237</td>\n",
       "      <td>0.0</td>\n",
       "      <td>5462</td>\n",
       "    </tr>\n",
       "    <tr>\n",
       "      <th>231743</th>\n",
       "      <td>2022-04-16</td>\n",
       "      <td>Zimbabwe</td>\n",
       "      <td>NaN</td>\n",
       "      <td>247237</td>\n",
       "      <td>0.0</td>\n",
       "      <td>5462</td>\n",
       "    </tr>\n",
       "  </tbody>\n",
       "</table>\n",
       "<p>231744 rows × 6 columns</p>\n",
       "</div>"
      ],
      "text/plain": [
       "             Date      country Province/State  Confirmed  Recovered  Deaths\n",
       "0      2020-01-22  Afghanistan            NaN          0        0.0       0\n",
       "1      2020-01-23  Afghanistan            NaN          0        0.0       0\n",
       "2      2020-01-24  Afghanistan            NaN          0        0.0       0\n",
       "3      2020-01-25  Afghanistan            NaN          0        0.0       0\n",
       "4      2020-01-26  Afghanistan            NaN          0        0.0       0\n",
       "...           ...          ...            ...        ...        ...     ...\n",
       "231739 2022-04-12     Zimbabwe            NaN     247094        0.0    5460\n",
       "231740 2022-04-13     Zimbabwe            NaN     247160        0.0    5460\n",
       "231741 2022-04-14     Zimbabwe            NaN     247208        0.0    5462\n",
       "231742 2022-04-15     Zimbabwe            NaN     247237        0.0    5462\n",
       "231743 2022-04-16     Zimbabwe            NaN     247237        0.0    5462\n",
       "\n",
       "[231744 rows x 6 columns]"
      ]
     },
     "execution_count": 3,
     "metadata": {},
     "output_type": "execute_result"
    }
   ],
   "source": [
    "df.rename(columns={'Country/Region' : 'country'},inplace=True)\n",
    "df"
   ]
  },
  {
   "cell_type": "code",
   "execution_count": 4,
   "metadata": {
    "colab": {},
    "colab_type": "code",
    "id": "tTqJn2gv__Xp"
   },
   "outputs": [
    {
     "ename": "KeyError",
     "evalue": "\"['Lat', 'Long'] not in index\"",
     "output_type": "error",
     "traceback": [
      "\u001b[1;31m---------------------------------------------------------------------------\u001b[0m",
      "\u001b[1;31mKeyError\u001b[0m                                  Traceback (most recent call last)",
      "Input \u001b[1;32mIn [4]\u001b[0m, in \u001b[0;36m<cell line: 1>\u001b[1;34m()\u001b[0m\n\u001b[1;32m----> 1\u001b[0m df\u001b[38;5;241m=\u001b[39m\u001b[43mdf\u001b[49m\u001b[43m[\u001b[49m\u001b[43m[\u001b[49m\u001b[38;5;124;43m'\u001b[39;49m\u001b[38;5;124;43mDate\u001b[39;49m\u001b[38;5;124;43m'\u001b[39;49m\u001b[43m,\u001b[49m\u001b[38;5;124;43m'\u001b[39;49m\u001b[38;5;124;43mcountry\u001b[39;49m\u001b[38;5;124;43m'\u001b[39;49m\u001b[43m,\u001b[49m\u001b[38;5;124;43m'\u001b[39;49m\u001b[38;5;124;43mLat\u001b[39;49m\u001b[38;5;124;43m'\u001b[39;49m\u001b[43m,\u001b[49m\u001b[38;5;124;43m'\u001b[39;49m\u001b[38;5;124;43mLong\u001b[39;49m\u001b[38;5;124;43m'\u001b[39;49m\u001b[43m,\u001b[49m\u001b[38;5;124;43m'\u001b[39;49m\u001b[38;5;124;43mConfirmed\u001b[39;49m\u001b[38;5;124;43m'\u001b[39;49m\u001b[43m,\u001b[49m\u001b[38;5;124;43m'\u001b[39;49m\u001b[38;5;124;43mDeaths\u001b[39;49m\u001b[38;5;124;43m'\u001b[39;49m\u001b[43m,\u001b[49m\u001b[38;5;124;43m'\u001b[39;49m\u001b[38;5;124;43mRecovered\u001b[39;49m\u001b[38;5;124;43m'\u001b[39;49m\u001b[43m]\u001b[49m\u001b[43m]\u001b[49m\n",
      "File \u001b[1;32m~\\anaconda3\\lib\\site-packages\\pandas\\core\\frame.py:3511\u001b[0m, in \u001b[0;36mDataFrame.__getitem__\u001b[1;34m(self, key)\u001b[0m\n\u001b[0;32m   3509\u001b[0m     \u001b[38;5;28;01mif\u001b[39;00m is_iterator(key):\n\u001b[0;32m   3510\u001b[0m         key \u001b[38;5;241m=\u001b[39m \u001b[38;5;28mlist\u001b[39m(key)\n\u001b[1;32m-> 3511\u001b[0m     indexer \u001b[38;5;241m=\u001b[39m \u001b[38;5;28;43mself\u001b[39;49m\u001b[38;5;241;43m.\u001b[39;49m\u001b[43mcolumns\u001b[49m\u001b[38;5;241;43m.\u001b[39;49m\u001b[43m_get_indexer_strict\u001b[49m\u001b[43m(\u001b[49m\u001b[43mkey\u001b[49m\u001b[43m,\u001b[49m\u001b[43m \u001b[49m\u001b[38;5;124;43m\"\u001b[39;49m\u001b[38;5;124;43mcolumns\u001b[39;49m\u001b[38;5;124;43m\"\u001b[39;49m\u001b[43m)\u001b[49m[\u001b[38;5;241m1\u001b[39m]\n\u001b[0;32m   3513\u001b[0m \u001b[38;5;66;03m# take() does not accept boolean indexers\u001b[39;00m\n\u001b[0;32m   3514\u001b[0m \u001b[38;5;28;01mif\u001b[39;00m \u001b[38;5;28mgetattr\u001b[39m(indexer, \u001b[38;5;124m\"\u001b[39m\u001b[38;5;124mdtype\u001b[39m\u001b[38;5;124m\"\u001b[39m, \u001b[38;5;28;01mNone\u001b[39;00m) \u001b[38;5;241m==\u001b[39m \u001b[38;5;28mbool\u001b[39m:\n",
      "File \u001b[1;32m~\\anaconda3\\lib\\site-packages\\pandas\\core\\indexes\\base.py:5782\u001b[0m, in \u001b[0;36mIndex._get_indexer_strict\u001b[1;34m(self, key, axis_name)\u001b[0m\n\u001b[0;32m   5779\u001b[0m \u001b[38;5;28;01melse\u001b[39;00m:\n\u001b[0;32m   5780\u001b[0m     keyarr, indexer, new_indexer \u001b[38;5;241m=\u001b[39m \u001b[38;5;28mself\u001b[39m\u001b[38;5;241m.\u001b[39m_reindex_non_unique(keyarr)\n\u001b[1;32m-> 5782\u001b[0m \u001b[38;5;28;43mself\u001b[39;49m\u001b[38;5;241;43m.\u001b[39;49m\u001b[43m_raise_if_missing\u001b[49m\u001b[43m(\u001b[49m\u001b[43mkeyarr\u001b[49m\u001b[43m,\u001b[49m\u001b[43m \u001b[49m\u001b[43mindexer\u001b[49m\u001b[43m,\u001b[49m\u001b[43m \u001b[49m\u001b[43maxis_name\u001b[49m\u001b[43m)\u001b[49m\n\u001b[0;32m   5784\u001b[0m keyarr \u001b[38;5;241m=\u001b[39m \u001b[38;5;28mself\u001b[39m\u001b[38;5;241m.\u001b[39mtake(indexer)\n\u001b[0;32m   5785\u001b[0m \u001b[38;5;28;01mif\u001b[39;00m \u001b[38;5;28misinstance\u001b[39m(key, Index):\n\u001b[0;32m   5786\u001b[0m     \u001b[38;5;66;03m# GH 42790 - Preserve name from an Index\u001b[39;00m\n",
      "File \u001b[1;32m~\\anaconda3\\lib\\site-packages\\pandas\\core\\indexes\\base.py:5845\u001b[0m, in \u001b[0;36mIndex._raise_if_missing\u001b[1;34m(self, key, indexer, axis_name)\u001b[0m\n\u001b[0;32m   5842\u001b[0m     \u001b[38;5;28;01mraise\u001b[39;00m \u001b[38;5;167;01mKeyError\u001b[39;00m(\u001b[38;5;124mf\u001b[39m\u001b[38;5;124m\"\u001b[39m\u001b[38;5;124mNone of [\u001b[39m\u001b[38;5;132;01m{\u001b[39;00mkey\u001b[38;5;132;01m}\u001b[39;00m\u001b[38;5;124m] are in the [\u001b[39m\u001b[38;5;132;01m{\u001b[39;00maxis_name\u001b[38;5;132;01m}\u001b[39;00m\u001b[38;5;124m]\u001b[39m\u001b[38;5;124m\"\u001b[39m)\n\u001b[0;32m   5844\u001b[0m not_found \u001b[38;5;241m=\u001b[39m \u001b[38;5;28mlist\u001b[39m(ensure_index(key)[missing_mask\u001b[38;5;241m.\u001b[39mnonzero()[\u001b[38;5;241m0\u001b[39m]]\u001b[38;5;241m.\u001b[39munique())\n\u001b[1;32m-> 5845\u001b[0m \u001b[38;5;28;01mraise\u001b[39;00m \u001b[38;5;167;01mKeyError\u001b[39;00m(\u001b[38;5;124mf\u001b[39m\u001b[38;5;124m\"\u001b[39m\u001b[38;5;132;01m{\u001b[39;00mnot_found\u001b[38;5;132;01m}\u001b[39;00m\u001b[38;5;124m not in index\u001b[39m\u001b[38;5;124m\"\u001b[39m)\n",
      "\u001b[1;31mKeyError\u001b[0m: \"['Lat', 'Long'] not in index\""
     ]
    }
   ],
   "source": [
    "df=df[['Date','country','Province/State','Confirmed','Deaths','Recovered']]\n"
   ]
  },
  {
   "cell_type": "code",
   "execution_count": null,
   "metadata": {},
   "outputs": [],
   "source": [
    "url = 'https://raw.githubusercontent.com/owid/covid-19-data/master/public/data/ecdc/full_data.csv'\n",
    "daycs = pd.read_csv(url, error_bad_lines=False)\n"
   ]
  },
  {
   "cell_type": "markdown",
   "metadata": {
    "colab_type": "text",
    "id": "s17bI9v-isTV"
   },
   "source": [
    "# **COMPARISONS**\n"
   ]
  },
  {
   "cell_type": "code",
   "execution_count": null,
   "metadata": {},
   "outputs": [],
   "source": []
  },
  {
   "cell_type": "code",
   "execution_count": null,
   "metadata": {
    "colab": {
     "base_uri": "https://localhost:8080/",
     "height": 78
    },
    "colab_type": "code",
    "executionInfo": {
     "elapsed": 6757,
     "status": "ok",
     "timestamp": 1589168654118,
     "user": {
      "displayName": "Deepak Jose",
      "photoUrl": "https://lh3.googleusercontent.com/a-/AOh14GjPz2Q_nQIqFSY-5VHbhxCi_i1RYg5bb26GXY1ysg=s64",
      "userId": "15969960042202200125"
     },
     "user_tz": -330
    },
    "id": "Zq9Kp78wCxjd",
    "outputId": "d5f2c087-8332-4ee8-ea86-6063871464eb"
   },
   "outputs": [],
   "source": [
    "comp=pd.read_excel(\"POPULATION.xlsx\")\n",
    "comp=comp.transpose().reset_index()\n",
    "comp.rename(columns={'index':\"case\",0:\"count\"},inplace=True)\n",
    "comp.style.background_gradient(cmap='Reds')"
   ]
  },
  {
   "cell_type": "markdown",
   "metadata": {
    "colab_type": "text",
    "id": "m5mSwx25zwSd"
   },
   "source": [
    "1. **WITH POPULATION**"
   ]
  },
  {
   "cell_type": "code",
   "execution_count": null,
   "metadata": {
    "colab": {
     "base_uri": "https://localhost:8080/",
     "height": 542
    },
    "colab_type": "code",
    "executionInfo": {
     "elapsed": 6949,
     "status": "ok",
     "timestamp": 1589168665154,
     "user": {
      "displayName": "Deepak Jose",
      "photoUrl": "https://lh3.googleusercontent.com/a-/AOh14GjPz2Q_nQIqFSY-5VHbhxCi_i1RYg5bb26GXY1ysg=s64",
      "userId": "15969960042202200125"
     },
     "user_tz": -330
    },
    "id": "5XSysGDKC-bF",
    "outputId": "36ad97f9-7774-4685-e060-fe7bb93ffe3d"
   },
   "outputs": [],
   "source": [
    "fig = px.pie(comp, values='count', names='case', title='COMPARISON WITH  POPULATION',color_discrete_sequence=px.colors.sequential.Reds_r)\n",
    "fig.show()"
   ]
  },
  {
   "cell_type": "code",
   "execution_count": null,
   "metadata": {
    "colab": {},
    "colab_type": "code",
    "id": "HAeOaqLQJ_Dp"
   },
   "outputs": [],
   "source": [
    "df['Active']=df['Confirmed']-df['Deaths']-df['Recovered']"
   ]
  },
  {
   "cell_type": "markdown",
   "metadata": {
    "colab_type": "text",
    "id": "nyC0Z8nijSPn"
   },
   "source": [
    "2.   **AMONG COUNTRIES**\n",
    "\n"
   ]
  },
  {
   "cell_type": "code",
   "execution_count": null,
   "metadata": {
    "colab": {
     "base_uri": "https://localhost:8080/",
     "height": 542
    },
    "colab_type": "code",
    "executionInfo": {
     "elapsed": 11225,
     "status": "ok",
     "timestamp": 1589168694975,
     "user": {
      "displayName": "Deepak Jose",
      "photoUrl": "https://lh3.googleusercontent.com/a-/AOh14GjPz2Q_nQIqFSY-5VHbhxCi_i1RYg5bb26GXY1ysg=s64",
      "userId": "15969960042202200125"
     },
     "user_tz": -330
    },
    "id": "eUSBbcu92y2p",
    "outputId": "4d53b7a9-fc4e-43c0-9109-67de9d4f5673"
   },
   "outputs": [],
   "source": [
    "fig = px.scatter(df, x=\"Date\", y=\"Confirmed\", color=\"country\",\n",
    "                 hover_data=['country'],title=\"COMPARISON AMONG COUNTRIES\")\n",
    "fig.show()"
   ]
  },
  {
   "cell_type": "markdown",
   "metadata": {
    "colab_type": "text",
    "id": "bjh9B6M2kKbw"
   },
   "source": [
    "# **TRENDS**"
   ]
  },
  {
   "cell_type": "code",
   "execution_count": null,
   "metadata": {
    "colab": {},
    "colab_type": "code",
    "id": "aJE_7vXrKMde"
   },
   "outputs": [],
   "source": [
    "active=df.groupby('Date')['Active'].sum().reset_index()\n",
    "recovered=df.groupby('Date')['Recovered'].sum().reset_index()\n",
    "deaths=df.groupby('Date')['Deaths'].sum().reset_index()\n",
    "confirmed=df.groupby('Date')['Confirmed'].sum().reset_index()"
   ]
  },
  {
   "cell_type": "code",
   "execution_count": null,
   "metadata": {
    "colab": {
     "base_uri": "https://localhost:8080/",
     "height": 559
    },
    "colab_type": "code",
    "executionInfo": {
     "elapsed": 2157,
     "status": "ok",
     "timestamp": 1589168708103,
     "user": {
      "displayName": "Deepak Jose",
      "photoUrl": "https://lh3.googleusercontent.com/a-/AOh14GjPz2Q_nQIqFSY-5VHbhxCi_i1RYg5bb26GXY1ysg=s64",
      "userId": "15969960042202200125"
     },
     "user_tz": -330
    },
    "id": "4xgWAsZQKYhA",
    "outputId": "2c909c81-42c3-4f97-bf21-1456365fdd43"
   },
   "outputs": [],
   "source": [
    "plt.figure(figsize=(15,12))\n",
    "fig=go.Figure(data=(go.Scatter(x=active['Date'],y=active['Active'],mode=\"lines+markers\",name='Active'),\n",
    "                    go.Scatter(x=deaths['Date'],y=deaths['Deaths'],mode=\"lines+markers\",name='Deaths'),\n",
    "                    go.Scatter(x=confirmed['Date'],y=confirmed['Confirmed'],mode=\"lines+markers\",name='Confirmed'),\n",
    "                    go.Scatter(x=recovered['Date'],y=recovered['Recovered'],mode=\"lines+markers\",name='Recovered')))\n",
    "fig.update_layout(title=\"COVID-19 TRENDS\",xaxis_title=\"Date\",yaxis_title=\"Cases\")\n",
    "fig.show()"
   ]
  },
  {
   "cell_type": "markdown",
   "metadata": {
    "colab_type": "text",
    "id": "rEJUwB7bkX7L"
   },
   "source": [
    "# **GLOBAL EFFECT**"
   ]
  },
  {
   "cell_type": "code",
   "execution_count": null,
   "metadata": {
    "colab": {},
    "colab_type": "code",
    "id": "pCBIu_JFJlqV"
   },
   "outputs": [],
   "source": [
    "top = df[df['Date'] == df['Date'].max()]\n"
   ]
  },
  {
   "cell_type": "code",
   "execution_count": null,
   "metadata": {
    "colab": {
     "base_uri": "https://localhost:8080/",
     "height": 406
    },
    "colab_type": "code",
    "executionInfo": {
     "elapsed": 2225,
     "status": "ok",
     "timestamp": 1589168716355,
     "user": {
      "displayName": "Deepak Jose",
      "photoUrl": "https://lh3.googleusercontent.com/a-/AOh14GjPz2Q_nQIqFSY-5VHbhxCi_i1RYg5bb26GXY1ysg=s64",
      "userId": "15969960042202200125"
     },
     "user_tz": -330
    },
    "id": "f194STeKLHoz",
    "outputId": "143ba17b-71e3-4818-d89f-27f555dca6a3"
   },
   "outputs": [],
   "source": [
    "world = top.groupby('country')['Confirmed','Recovered','Active','Deaths'].sum().reset_index()\n",
    "world=world.sort_values('Confirmed', ascending=False)\n",
    "world[world['Confirmed']>50000].style.background_gradient(cmap='Reds')"
   ]
  },
  {
   "cell_type": "markdown",
   "metadata": {
    "colab_type": "text",
    "id": "0adXRuFLlYiU"
   },
   "source": [
    "1.   **CONFIRMED CASES**\n",
    "\n",
    "\n"
   ]
  },
  {
   "cell_type": "code",
   "execution_count": null,
   "metadata": {
    "colab": {
     "base_uri": "https://localhost:8080/",
     "height": 542
    },
    "colab_type": "code",
    "executionInfo": {
     "elapsed": 1748,
     "status": "ok",
     "timestamp": 1589168720157,
     "user": {
      "displayName": "Deepak Jose",
      "photoUrl": "https://lh3.googleusercontent.com/a-/AOh14GjPz2Q_nQIqFSY-5VHbhxCi_i1RYg5bb26GXY1ysg=s64",
      "userId": "15969960042202200125"
     },
     "user_tz": -330
    },
    "id": "Us3EnB69Lf_M",
    "outputId": "2a963e09-e840-4ce8-a45e-cd167f9711c5"
   },
   "outputs": [],
   "source": [
    "fig=px.choropleth(world,locations='country',locationmode='country names',color='Confirmed',range_color=[1,100000],\n",
    "                  hover_name='country',color_continuous_scale='Viridis',title='COVID-19 CONFIRMED CASES')\n",
    "fig.show()"
   ]
  },
  {
   "cell_type": "markdown",
   "metadata": {
    "colab_type": "text",
    "id": "i2D99QRWlfjf"
   },
   "source": [
    "2.   **ACTIVE CASES**\n",
    "\n"
   ]
  },
  {
   "cell_type": "code",
   "execution_count": null,
   "metadata": {
    "colab": {
     "base_uri": "https://localhost:8080/",
     "height": 542
    },
    "colab_type": "code",
    "executionInfo": {
     "elapsed": 1578,
     "status": "ok",
     "timestamp": 1589168724824,
     "user": {
      "displayName": "Deepak Jose",
      "photoUrl": "https://lh3.googleusercontent.com/a-/AOh14GjPz2Q_nQIqFSY-5VHbhxCi_i1RYg5bb26GXY1ysg=s64",
      "userId": "15969960042202200125"
     },
     "user_tz": -330
    },
    "id": "Xgh5LBURLxxZ",
    "outputId": "efffed25-6bc3-4c0b-915d-0112591ddd41"
   },
   "outputs": [],
   "source": [
    "fig=px.choropleth(world,locations='country',locationmode='country names',color='Active',range_color=[1,100000],\n",
    "                  hover_name='country',color_continuous_scale='reds',title='COVID-19 ACTIVE CASES')\n",
    "fig.show()"
   ]
  },
  {
   "cell_type": "markdown",
   "metadata": {
    "colab_type": "text",
    "id": "JWStRrtHlmPF"
   },
   "source": [
    "3.   **RECOVERED CASES**\n",
    "\n"
   ]
  },
  {
   "cell_type": "code",
   "execution_count": null,
   "metadata": {
    "colab": {
     "base_uri": "https://localhost:8080/",
     "height": 542
    },
    "colab_type": "code",
    "executionInfo": {
     "elapsed": 1505,
     "status": "ok",
     "timestamp": 1589168727900,
     "user": {
      "displayName": "Deepak Jose",
      "photoUrl": "https://lh3.googleusercontent.com/a-/AOh14GjPz2Q_nQIqFSY-5VHbhxCi_i1RYg5bb26GXY1ysg=s64",
      "userId": "15969960042202200125"
     },
     "user_tz": -330
    },
    "id": "StghtkunMEyP",
    "outputId": "e2e00d10-9503-4cd1-d56e-bb7c9aeb560a"
   },
   "outputs": [],
   "source": [
    "fig=px.choropleth(world,locations='country',locationmode='country names',color='Recovered',range_color=[1,30000],\n",
    "                  hover_name='country',color_continuous_scale='algae',title='COVID-19 RECOVERED CASES')\n",
    "fig.show()"
   ]
  },
  {
   "cell_type": "markdown",
   "metadata": {
    "colab_type": "text",
    "id": "tKntI9W4l0Ro"
   },
   "source": [
    "3.   **DEATH CASES**\n",
    "\n"
   ]
  },
  {
   "cell_type": "code",
   "execution_count": null,
   "metadata": {
    "colab": {
     "base_uri": "https://localhost:8080/",
     "height": 542
    },
    "colab_type": "code",
    "executionInfo": {
     "elapsed": 3773,
     "status": "ok",
     "timestamp": 1589168732786,
     "user": {
      "displayName": "Deepak Jose",
      "photoUrl": "https://lh3.googleusercontent.com/a-/AOh14GjPz2Q_nQIqFSY-5VHbhxCi_i1RYg5bb26GXY1ysg=s64",
      "userId": "15969960042202200125"
     },
     "user_tz": -330
    },
    "id": "dQ4MR4HpL-j4",
    "outputId": "c7c8c2e8-1ed6-4978-d419-646f1818c9ef"
   },
   "outputs": [],
   "source": [
    "fig=px.choropleth(world,locations='country',locationmode='country names',color='Deaths',range_color=[1,10000],\n",
    "                  hover_name='country',color_continuous_scale='gray_r',title='COVID-19 DEATH CASES')\n",
    "fig.show()"
   ]
  },
  {
   "cell_type": "markdown",
   "metadata": {
    "colab_type": "text",
    "id": "5WoEKMAkkq-k"
   },
   "source": [
    "# **COMPARING MOST AFFECTED COUNTRIES**"
   ]
  },
  {
   "cell_type": "code",
   "execution_count": null,
   "metadata": {
    "colab": {},
    "colab_type": "code",
    "id": "_Wx2nPfAMJ_U"
   },
   "outputs": [],
   "source": [
    "top2=world[world['Confirmed']>30000]\n"
   ]
  },
  {
   "cell_type": "code",
   "execution_count": null,
   "metadata": {
    "colab": {
     "base_uri": "https://localhost:8080/",
     "height": 542
    },
    "colab_type": "code",
    "executionInfo": {
     "elapsed": 4794,
     "status": "ok",
     "timestamp": 1589168994484,
     "user": {
      "displayName": "Deepak Jose",
      "photoUrl": "https://lh3.googleusercontent.com/a-/AOh14GjPz2Q_nQIqFSY-5VHbhxCi_i1RYg5bb26GXY1ysg=s64",
      "userId": "15969960042202200125"
     },
     "user_tz": -330
    },
    "id": "IfSF6dVWMMev",
    "outputId": "7cd1b49a-8cc2-4ecb-95c1-f6c43b61131e"
   },
   "outputs": [],
   "source": [
    "fig = go.Figure()\n",
    "fig.add_trace(go.Bar(x=top2['country'], y=top2['Confirmed'],name='CONFIRMED'))\n",
    "fig.add_trace(go.Bar(x=top2['country'], y=top2['Active'],name='ACTIVE'))\n",
    "fig.add_trace(go.Bar(x=top2['country'], y=top2['Recovered'],name='RECOVERED'))\n",
    "fig.add_trace(go.Bar(x=top2['country'], y=top2['Deaths'],name='DEATHS'))\n",
    "fig.add_trace(go.Scatter(x=top2['country'],y=top2['Confirmed'],name='CONFIRMED'))\n",
    "fig.add_trace(go.Scatter(x=top2['country'],y=top2['Active'],name='ACTIVE'))\n",
    "fig.add_trace(go.Scatter(x=top2['country'],y=top2['Deaths'],name='DEATHS'))\n",
    "fig.add_trace(go.Scatter(x=top2['country'],y=top2['Recovered'],name='RECOVERED'))\n",
    "\n",
    "\n",
    "\n",
    "fig.update_layout(barmode='group', title_text='COVID-19')\n",
    "fig.show()"
   ]
  },
  {
   "cell_type": "markdown",
   "metadata": {
    "colab_type": "text",
    "id": "mQ04UJIYk62f"
   },
   "source": [
    "# **COMPARING INDIA,CHINA,USA & ITALY**"
   ]
  },
  {
   "cell_type": "code",
   "execution_count": null,
   "metadata": {
    "colab": {},
    "colab_type": "code",
    "id": "V_ybLq6SHhCL",
    "scrolled": true
   },
   "outputs": [],
   "source": [
    "china = df[df['country'] == 'China']\n",
    "china = china.groupby('Date')['Recovered','Active','Deaths','Confirmed'].sum().reset_index()\n",
    "India = df[df['country'] == 'India']\n",
    "India = India.groupby('Date')['Recovered','Active','Deaths','Confirmed'].sum().reset_index()\n",
    "US = df[df['country'] == 'US']\n",
    "US = US.groupby('Date')['Recovered','Active','Deaths','Confirmed'].sum().reset_index()\n",
    "Italy = df[df['country'] == 'Italy']\n",
    "Italy = Italy.groupby('Date')['Recovered','Active','Deaths','Confirmed'].sum().reset_index()"
   ]
  },
  {
   "cell_type": "markdown",
   "metadata": {
    "colab_type": "text",
    "id": "_FjNkBtIlIOm"
   },
   "source": [
    "\n",
    "1.   **CONFIRMED CASES**\n",
    "\n",
    "\n"
   ]
  },
  {
   "cell_type": "code",
   "execution_count": null,
   "metadata": {
    "colab": {
     "base_uri": "https://localhost:8080/",
     "height": 559
    },
    "colab_type": "code",
    "executionInfo": {
     "elapsed": 1956,
     "status": "ok",
     "timestamp": 1589169104074,
     "user": {
      "displayName": "Deepak Jose",
      "photoUrl": "https://lh3.googleusercontent.com/a-/AOh14GjPz2Q_nQIqFSY-5VHbhxCi_i1RYg5bb26GXY1ysg=s64",
      "userId": "15969960042202200125"
     },
     "user_tz": -330
    },
    "id": "RsaPR2PdHllk",
    "outputId": "36ac639c-5358-4b20-e1ec-1c8a54378d7c"
   },
   "outputs": [],
   "source": [
    "plt.figure(figsize=(15,12))\n",
    "fig=go.Figure(data=(go.Scatter(x=US['Date'],y=US['Confirmed'],mode=\"lines\",name='US'),\n",
    "                    go.Scatter(x=china['Date'],y=china['Confirmed'],mode=\"lines\",name='CHINA'),\n",
    "                    go.Scatter(x=India['Date'],y=India['Confirmed'],mode=\"lines\",name='INDIA'),\n",
    "                    go.Scatter(x=Italy['Date'],y=Italy['Confirmed'],mode=\"lines\",name='ITALY')))\n",
    "fig.update_layout(title=\"COVID-19 COMPARIOSON OF CONFIRMED CASES\",xaxis_title=\"Date\",yaxis_title=\"Cases\")\n",
    "fig.show()"
   ]
  },
  {
   "cell_type": "markdown",
   "metadata": {
    "colab_type": "text",
    "id": "mRD-EjUMlRr-"
   },
   "source": [
    "2.   **ACTIVE CASES**\n",
    "\n"
   ]
  },
  {
   "cell_type": "code",
   "execution_count": null,
   "metadata": {
    "colab": {
     "base_uri": "https://localhost:8080/",
     "height": 559
    },
    "colab_type": "code",
    "executionInfo": {
     "elapsed": 22106,
     "status": "ok",
     "timestamp": 1589169156927,
     "user": {
      "displayName": "Deepak Jose",
      "photoUrl": "https://lh3.googleusercontent.com/a-/AOh14GjPz2Q_nQIqFSY-5VHbhxCi_i1RYg5bb26GXY1ysg=s64",
      "userId": "15969960042202200125"
     },
     "user_tz": -330
    },
    "id": "RrBxD0Tezvar",
    "outputId": "02b684ce-3033-4142-e014-5268e5fbdd9c"
   },
   "outputs": [],
   "source": [
    "plt.figure(figsize=(15,12))\n",
    "fig=go.Figure(data=(go.Scatter(x=US['Date'],y=US['Active'],mode=\"lines\",name='US'),\n",
    "                    go.Scatter(x=china['Date'],y=china['Active'],mode=\"lines\",name='CHINA'),\n",
    "                    go.Scatter(x=India['Date'],y=India['Active'],mode=\"lines\",name='INDIA'),\n",
    "                    go.Scatter(x=Italy['Date'],y=Italy['Active'],mode=\"lines\",name='ITALY')))\n",
    "fig.update_layout(title=\"COVID-19 COMPARISON OF ACTIVE CASES\",xaxis_title=\"Date\",yaxis_title=\"Cases\")\n",
    "fig.show()"
   ]
  },
  {
   "cell_type": "markdown",
   "metadata": {
    "colab_type": "text",
    "id": "QlL-psMel_P1"
   },
   "source": [
    "2.   **RECOVERED CASES**\n",
    "\n"
   ]
  },
  {
   "cell_type": "code",
   "execution_count": null,
   "metadata": {
    "colab": {
     "base_uri": "https://localhost:8080/",
     "height": 559
    },
    "colab_type": "code",
    "executionInfo": {
     "elapsed": 1364,
     "status": "ok",
     "timestamp": 1589169181891,
     "user": {
      "displayName": "Deepak Jose",
      "photoUrl": "https://lh3.googleusercontent.com/a-/AOh14GjPz2Q_nQIqFSY-5VHbhxCi_i1RYg5bb26GXY1ysg=s64",
      "userId": "15969960042202200125"
     },
     "user_tz": -330
    },
    "id": "ZAUS1kTB0WIT",
    "outputId": "efdc8e56-bfc7-4f7f-e739-e9124f527eac"
   },
   "outputs": [],
   "source": [
    "plt.figure(figsize=(15,12))\n",
    "fig=go.Figure(data=(go.Scatter(x=US['Date'],y=US['Recovered'],mode=\"lines\",name='US'),\n",
    "                    go.Scatter(x=china['Date'],y=china['Recovered'],mode=\"lines\",name='CHINA'),\n",
    "                    go.Scatter(x=India['Date'],y=India['Recovered'],mode=\"lines\",name='INDIA'),\n",
    "                    go.Scatter(x=Italy['Date'],y=Italy['Recovered'],mode=\"lines\",name='ITALY')))\n",
    "fig.update_layout(title=\"COVID-19 COMPARISON OF RECOVERED CASES\",xaxis_title=\"Date\",yaxis_title=\"Cases\")\n",
    "fig.show()"
   ]
  },
  {
   "cell_type": "markdown",
   "metadata": {
    "colab_type": "text",
    "id": "6bZcEEIDmFBE"
   },
   "source": [
    "4.   **DEATH CASES**\n",
    "\n"
   ]
  },
  {
   "cell_type": "code",
   "execution_count": null,
   "metadata": {
    "colab": {
     "base_uri": "https://localhost:8080/",
     "height": 559
    },
    "colab_type": "code",
    "executionInfo": {
     "elapsed": 1515,
     "status": "ok",
     "timestamp": 1589169187674,
     "user": {
      "displayName": "Deepak Jose",
      "photoUrl": "https://lh3.googleusercontent.com/a-/AOh14GjPz2Q_nQIqFSY-5VHbhxCi_i1RYg5bb26GXY1ysg=s64",
      "userId": "15969960042202200125"
     },
     "user_tz": -330
    },
    "id": "nhbfRGzr0vl6",
    "outputId": "8c5ba810-8ae7-44e6-c952-c5adee7bbbb3"
   },
   "outputs": [],
   "source": [
    "plt.figure(figsize=(15,12))\n",
    "fig=go.Figure(data=(go.Scatter(x=US['Date'],y=US['Deaths'],mode=\"lines\",name='US'),\n",
    "                    go.Scatter(x=china['Date'],y=china['Deaths'],mode=\"lines\",name='CHINA'),\n",
    "                    go.Scatter(x=India['Date'],y=India['Deaths'],mode=\"lines\",name='INDIA'),\n",
    "                    go.Scatter(x=Italy['Date'],y=Italy['Deaths'],mode=\"lines\",name='ITALY')))\n",
    "fig.update_layout(title=\"COVID-19 COMPARISON OF DEATHS CASES\",xaxis_title=\"Date\",yaxis_title=\"Cases\")\n",
    "fig.show()"
   ]
  },
  {
   "cell_type": "markdown",
   "metadata": {
    "colab_type": "text",
    "id": "UMFtU5b_kZfU"
   },
   "source": [
    "# **SHARE OF DEATHS**"
   ]
  },
  {
   "cell_type": "code",
   "execution_count": null,
   "metadata": {
    "colab": {},
    "colab_type": "code",
    "id": "3l8RQTq_PBlK"
   },
   "outputs": [],
   "source": [
    "import requests\n",
    "\n",
    "url = 'https://www.worldometers.info/coronavirus/coronavirus-age-sex-demographics/'\n",
    "\n",
    "header = {\n",
    "  \"User-Agent\": \"Mozilla/5.0 (X11; Linux x86_64) AppleWebKit/537.36 (KHTML, like Gecko) Chrome/50.0.2661.75 Safari/537.36\",\n",
    "  \"X-Requested-With\": \"XMLHttpRequest\"\n",
    "}\n",
    "\n",
    "r = requests.get(url, headers=header)\n",
    "\n",
    "WM = pd.read_html(r.text)"
   ]
  },
  {
   "cell_type": "code",
   "execution_count": null,
   "metadata": {
    "colab": {},
    "colab_type": "code",
    "id": "Z0vLg-ARPdLn"
   },
   "outputs": [],
   "source": [
    "wmage=WM[0]\n",
    "wmsex=WM[1]"
   ]
  },
  {
   "cell_type": "code",
   "execution_count": null,
   "metadata": {
    "colab": {},
    "colab_type": "code",
    "id": "1tCUWU0YQIQK"
   },
   "outputs": [],
   "source": [
    "wmage = pd.DataFrame(wmage.iloc[:,:3].values)\n",
    "wmage.rename(columns={0:'AGE',1:'Deaths',2:'Share of deaths'},inplace=True)\n",
    "wmage=wmage.drop([0,6])\n"
   ]
  },
  {
   "cell_type": "markdown",
   "metadata": {
    "colab_type": "text",
    "id": "WRIVr8p6mUvN"
   },
   "source": [
    "1.   **AGE WISE**\n",
    "\n",
    "\n"
   ]
  },
  {
   "cell_type": "code",
   "execution_count": null,
   "metadata": {
    "colab": {},
    "colab_type": "code",
    "id": "AhDMZi2qVLLC"
   },
   "outputs": [],
   "source": [
    "wmage[['Deaths']]=wmage[['Deaths']].apply(pd.to_numeric)\n"
   ]
  },
  {
   "cell_type": "code",
   "execution_count": null,
   "metadata": {
    "colab": {
     "base_uri": "https://localhost:8080/",
     "height": 542
    },
    "colab_type": "code",
    "executionInfo": {
     "elapsed": 3854,
     "status": "ok",
     "timestamp": 1589169246152,
     "user": {
      "displayName": "Deepak Jose",
      "photoUrl": "https://lh3.googleusercontent.com/a-/AOh14GjPz2Q_nQIqFSY-5VHbhxCi_i1RYg5bb26GXY1ysg=s64",
      "userId": "15969960042202200125"
     },
     "user_tz": -330
    },
    "id": "njfbEWGOYyae",
    "outputId": "7d4ed0e9-dc8c-4da1-d1a7-352437b24ee8"
   },
   "outputs": [],
   "source": [
    "fig = px.pie(wmage, values='Deaths', names='AGE', title='AGE WISE SHARE OF DEATHS',color_discrete_sequence=px.colors.sequential.Sunsetdark)\n",
    "fig.show()"
   ]
  },
  {
   "cell_type": "code",
   "execution_count": null,
   "metadata": {
    "colab": {},
    "colab_type": "code",
    "id": "0-P6XRJtQJNm"
   },
   "outputs": [],
   "source": [
    "wmsex = pd.DataFrame(wmsex.iloc[:,:3].values)\n",
    "wmsex.rename(columns={0:'SEX',1:'Deaths',2:'Share of deaths'},inplace=True)\n",
    "wmsex=wmsex.drop([0])\n"
   ]
  },
  {
   "cell_type": "markdown",
   "metadata": {
    "colab_type": "text",
    "id": "_r1oCFf7miDW"
   },
   "source": [
    "2.   **GENDER WISE**\n",
    "\n"
   ]
  },
  {
   "cell_type": "code",
   "execution_count": null,
   "metadata": {
    "colab": {},
    "colab_type": "code",
    "id": "h2VADbqDVMRH"
   },
   "outputs": [],
   "source": [
    "wmsex[['Deaths']]=wmsex[['Deaths']].apply(pd.to_numeric)\n"
   ]
  },
  {
   "cell_type": "code",
   "execution_count": null,
   "metadata": {
    "colab": {
     "base_uri": "https://localhost:8080/",
     "height": 542
    },
    "colab_type": "code",
    "executionInfo": {
     "elapsed": 2364,
     "status": "ok",
     "timestamp": 1589169268192,
     "user": {
      "displayName": "Deepak Jose",
      "photoUrl": "https://lh3.googleusercontent.com/a-/AOh14GjPz2Q_nQIqFSY-5VHbhxCi_i1RYg5bb26GXY1ysg=s64",
      "userId": "15969960042202200125"
     },
     "user_tz": -330
    },
    "id": "TypEDsBRY00y",
    "outputId": "0af75513-185e-4c85-d535-adf011d95dee"
   },
   "outputs": [],
   "source": [
    "fig = px.pie(wmsex, values='Deaths', names='SEX', title='GENDER WISE SHARE OF DEATHS',color='SEX',color_discrete_sequence=px.colors.sequential.Sunsetdark)\n",
    "fig.show()"
   ]
  },
  {
   "cell_type": "markdown",
   "metadata": {
    "colab_type": "text",
    "id": "8lYg8Xz5kSGM"
   },
   "source": [
    "# **FATALITY**"
   ]
  },
  {
   "cell_type": "code",
   "execution_count": null,
   "metadata": {
    "colab": {},
    "colab_type": "code",
    "id": "qdQedOeehr4z"
   },
   "outputs": [],
   "source": [
    "ft=pd.read_excel(\"COVID-19.xlsx\")"
   ]
  },
  {
   "cell_type": "code",
   "execution_count": null,
   "metadata": {
    "colab": {
     "base_uri": "https://localhost:8080/",
     "height": 542
    },
    "colab_type": "code",
    "executionInfo": {
     "elapsed": 6039,
     "status": "ok",
     "timestamp": 1589169283473,
     "user": {
      "displayName": "Deepak Jose",
      "photoUrl": "https://lh3.googleusercontent.com/a-/AOh14GjPz2Q_nQIqFSY-5VHbhxCi_i1RYg5bb26GXY1ysg=s64",
      "userId": "15969960042202200125"
     },
     "user_tz": -330
    },
    "id": "vYLnURfyh6o1",
    "outputId": "9c0ecf39-9ce4-4758-d5a3-d5a4462404ea"
   },
   "outputs": [],
   "source": [
    "fig = px.pie(ft, values='Deaths(in per cent)', names='Cases', title='FATALITY',color_discrete_sequence=px.colors.sequential.Sunsetdark)\n",
    "fig.show()"
   ]
  },
  {
   "cell_type": "markdown",
   "metadata": {
    "colab_type": "text",
    "id": "5SYNFSDfj8bb"
   },
   "source": [
    "# **COMPARISON WITH SIMILAR VIRUSES**"
   ]
  },
  {
   "cell_type": "markdown",
   "metadata": {
    "colab_type": "text",
    "id": "RWJz0BeOnApO"
   },
   "source": [
    "1.   **DEATH RATE**\n",
    "\n",
    "\n"
   ]
  },
  {
   "cell_type": "code",
   "execution_count": null,
   "metadata": {
    "colab": {
     "base_uri": "https://localhost:8080/",
     "height": 118
    },
    "colab_type": "code",
    "executionInfo": {
     "elapsed": 2620,
     "status": "ok",
     "timestamp": 1589169286836,
     "user": {
      "displayName": "Deepak Jose",
      "photoUrl": "https://lh3.googleusercontent.com/a-/AOh14GjPz2Q_nQIqFSY-5VHbhxCi_i1RYg5bb26GXY1ysg=s64",
      "userId": "15969960042202200125"
     },
     "user_tz": -330
    },
    "id": "zwpZO5CHj7_d",
    "outputId": "cba13ae9-c134-4759-c461-0b6c1b12dad7"
   },
   "outputs": [],
   "source": [
    "virus=pd.read_excel(\"VIRUS.xlsx\")\n",
    "virus=virus.sort_values('Death Rate',ascending=False)\n",
    "virus.style.background_gradient(cmap='Reds')"
   ]
  },
  {
   "cell_type": "code",
   "execution_count": null,
   "metadata": {
    "colab": {
     "base_uri": "https://localhost:8080/",
     "height": 717
    },
    "colab_type": "code",
    "executionInfo": {
     "elapsed": 3961,
     "status": "ok",
     "timestamp": 1589169292129,
     "user": {
      "displayName": "Deepak Jose",
      "photoUrl": "https://lh3.googleusercontent.com/a-/AOh14GjPz2Q_nQIqFSY-5VHbhxCi_i1RYg5bb26GXY1ysg=s64",
      "userId": "15969960042202200125"
     },
     "user_tz": -330
    },
    "id": "8G8en6WTlQGc",
    "outputId": "80b42014-0367-423a-fa20-505ad75a4333"
   },
   "outputs": [],
   "source": [
    "fig = px.bar(virus, x='Virus', y='Death Rate',\n",
    "             hover_data=['Virus','Death Rate'], color='Death Rate',\n",
    "             height=700,width=700,color_continuous_scale='peach')\n",
    "fig.show()"
   ]
  },
  {
   "cell_type": "markdown",
   "metadata": {
    "colab_type": "text",
    "id": "_j0Zy_bWnORI"
   },
   "source": [
    "2. **INCUBATION PERIOD**"
   ]
  },
  {
   "cell_type": "code",
   "execution_count": null,
   "metadata": {
    "colab": {
     "base_uri": "https://localhost:8080/",
     "height": 138
    },
    "colab_type": "code",
    "executionInfo": {
     "elapsed": 3920,
     "status": "ok",
     "timestamp": 1589169298414,
     "user": {
      "displayName": "Deepak Jose",
      "photoUrl": "https://lh3.googleusercontent.com/a-/AOh14GjPz2Q_nQIqFSY-5VHbhxCi_i1RYg5bb26GXY1ysg=s64",
      "userId": "15969960042202200125"
     },
     "user_tz": -330
    },
    "id": "2Rl3yx-vm9i_",
    "outputId": "214fe7d1-a322-46bf-de6f-29096a80d1cd"
   },
   "outputs": [],
   "source": [
    "inc=pd.read_excel(\"INCUBATION.xlsx\")\n",
    "inc=inc.sort_values('Incubation Period(max)',ascending=False)\n",
    "inc.style.background_gradient(cmap='Reds')"
   ]
  },
  {
   "cell_type": "code",
   "execution_count": null,
   "metadata": {
    "colab": {
     "base_uri": "https://localhost:8080/",
     "height": 717
    },
    "colab_type": "code",
    "executionInfo": {
     "elapsed": 3978,
     "status": "ok",
     "timestamp": 1589169303188,
     "user": {
      "displayName": "Deepak Jose",
      "photoUrl": "https://lh3.googleusercontent.com/a-/AOh14GjPz2Q_nQIqFSY-5VHbhxCi_i1RYg5bb26GXY1ysg=s64",
      "userId": "15969960042202200125"
     },
     "user_tz": -330
    },
    "id": "_qLZf13goI-9",
    "outputId": "b113097e-359e-4154-8c75-c2b76bd4db49"
   },
   "outputs": [],
   "source": [
    "fig = px.bar(inc, x='Virus', y='Incubation Period(max)',\n",
    "             hover_data=['Virus','Incubation Period(max)'], color='Incubation Period(max)',\n",
    "             height=700,width=700,color_continuous_scale='peach')\n",
    "fig.show()"
   ]
  },
  {
   "cell_type": "markdown",
   "metadata": {
    "colab_type": "text",
    "id": "n5nIwiiQnIVv"
   },
   "source": [
    "# **SYMPTOMS**"
   ]
  },
  {
   "cell_type": "code",
   "execution_count": null,
   "metadata": {
    "colab": {
     "base_uri": "https://localhost:8080/",
     "height": 258
    },
    "colab_type": "code",
    "executionInfo": {
     "elapsed": 5404,
     "status": "ok",
     "timestamp": 1589169312367,
     "user": {
      "displayName": "Deepak Jose",
      "photoUrl": "https://lh3.googleusercontent.com/a-/AOh14GjPz2Q_nQIqFSY-5VHbhxCi_i1RYg5bb26GXY1ysg=s64",
      "userId": "15969960042202200125"
     },
     "user_tz": -330
    },
    "id": "p8TkYko3peCa",
    "outputId": "f111c4ae-d432-458f-c473-b363bdaefe93"
   },
   "outputs": [],
   "source": [
    "sm=pd.read_excel(\"SYMPTOMS.xlsx\")\n",
    "sm.style.background_gradient(cmap='Reds')"
   ]
  },
  {
   "cell_type": "code",
   "execution_count": null,
   "metadata": {
    "colab": {
     "base_uri": "https://localhost:8080/",
     "height": 717
    },
    "colab_type": "code",
    "executionInfo": {
     "elapsed": 3829,
     "status": "ok",
     "timestamp": 1589169316977,
     "user": {
      "displayName": "Deepak Jose",
      "photoUrl": "https://lh3.googleusercontent.com/a-/AOh14GjPz2Q_nQIqFSY-5VHbhxCi_i1RYg5bb26GXY1ysg=s64",
      "userId": "15969960042202200125"
     },
     "user_tz": -330
    },
    "id": "JZTG8VH0sNcT",
    "outputId": "63e94c24-66c7-4e0e-bffc-fa141715cbc0"
   },
   "outputs": [],
   "source": [
    "fig = px.bar(sm, x='Signs and Symptoms at the time of admition', y='Percentage',\n",
    "             hover_data=['Percentage'], color='Percentage',\n",
    "             height=700,color_continuous_scale='peach',width=1000)\n",
    "fig.show()"
   ]
  },
  {
   "cell_type": "code",
   "execution_count": null,
   "metadata": {},
   "outputs": [],
   "source": []
  }
 ],
 "metadata": {
  "colab": {
   "authorship_tag": "ABX9TyPwNjkXNoP36LHrt22+FMVW",
   "collapsed_sections": [
    "CiQi-9ekiSq2",
    "bjh9B6M2kKbw",
    "rEJUwB7bkX7L",
    "5WoEKMAkkq-k",
    "mQ04UJIYk62f",
    "UMFtU5b_kZfU",
    "8lYg8Xz5kSGM",
    "5SYNFSDfj8bb",
    "n5nIwiiQnIVv"
   ],
   "name": "PRESENTATION.ipynb",
   "provenance": []
  },
  "kernelspec": {
   "display_name": "Python 3 (ipykernel)",
   "language": "python",
   "name": "python3"
  },
  "language_info": {
   "codemirror_mode": {
    "name": "ipython",
    "version": 3
   },
   "file_extension": ".py",
   "mimetype": "text/x-python",
   "name": "python",
   "nbconvert_exporter": "python",
   "pygments_lexer": "ipython3",
   "version": "3.9.12"
  }
 },
 "nbformat": 4,
 "nbformat_minor": 1
}
