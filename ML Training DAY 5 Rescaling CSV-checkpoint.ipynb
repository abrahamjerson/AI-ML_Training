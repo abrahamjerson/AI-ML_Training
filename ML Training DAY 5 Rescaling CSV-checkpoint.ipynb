{
 "cells": [
  {
   "cell_type": "code",
   "execution_count": 12,
   "metadata": {},
   "outputs": [],
   "source": [
    "from sklearn.preprocessing import MinMaxScaler\n",
    "import pandas\n",
    "import numpy\n",
    "import scipy"
   ]
  },
  {
   "cell_type": "code",
   "execution_count": 13,
   "metadata": {},
   "outputs": [],
   "source": [
    "names = ['plas', 'pres', 'skin', 'test', 'mass', 'pedi', 'age', 'class']\n",
    "datapath = \"C:/Users/ASUS/Desktop/AI Training Data/Diabetes1.csv\"\n",
    "dataframe = pandas.read_csv(datapath, names=names)\n",
    "array = dataframe.values"
   ]
  },
  {
   "cell_type": "code",
   "execution_count": 14,
   "metadata": {},
   "outputs": [],
   "source": [
    "X=array[:,0:7]\n",
    "Y=array[:,7]\n",
    "scaler = MinMaxScaler(feature_range=(0.5, 2.5))\n",
    "rescaledX = scaler.fit_transform(X)"
   ]
  },
  {
   "cell_type": "code",
   "execution_count": 15,
   "metadata": {},
   "outputs": [
    {
     "name": "stdout",
     "output_type": "stream",
     "text": [
      "[[1.987 1.68  1.207 0.5   1.501 0.969 1.467]\n",
      " [1.354 1.582 1.086 0.5   1.293 0.733 0.833]\n",
      " [2.339 1.549 0.5   0.5   1.194 1.007 0.867]\n",
      " [1.394 1.582 0.965 0.722 1.338 0.576 0.5  ]\n",
      " [1.877 1.156 1.207 0.897 1.785 2.387 0.9  ]]\n"
     ]
    }
   ],
   "source": [
    "numpy.set_printoptions(precision=3)\n",
    "print(rescaledX[0:5,:])"
   ]
  }
 ],
 "metadata": {
  "kernelspec": {
   "display_name": "Python 3",
   "language": "python",
   "name": "python3"
  },
  "language_info": {
   "codemirror_mode": {
    "name": "ipython",
    "version": 3
   },
   "file_extension": ".py",
   "mimetype": "text/x-python",
   "name": "python",
   "nbconvert_exporter": "python",
   "pygments_lexer": "ipython3",
   "version": "3.7.4"
  }
 },
 "nbformat": 4,
 "nbformat_minor": 2
}
