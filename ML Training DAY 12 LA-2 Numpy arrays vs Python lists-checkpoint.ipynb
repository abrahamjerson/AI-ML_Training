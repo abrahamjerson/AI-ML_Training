{
 "cells": [
  {
   "cell_type": "code",
   "execution_count": 1,
   "metadata": {},
   "outputs": [
    {
     "data": {
      "text/plain": [
       "array([1, 2, 3])"
      ]
     },
     "execution_count": 1,
     "metadata": {},
     "output_type": "execute_result"
    }
   ],
   "source": [
    "#NP LA-2 - Numpy arrays vs Python lists\n",
    "import numpy as np\n",
    "a = np.array([1,2,3])\n",
    "a"
   ]
  },
  {
   "cell_type": "code",
   "execution_count": 2,
   "metadata": {},
   "outputs": [
    {
     "data": {
      "text/plain": [
       "3"
      ]
     },
     "execution_count": 2,
     "metadata": {},
     "output_type": "execute_result"
    }
   ],
   "source": [
    "#Accessing an element\n",
    "a[2]"
   ]
  },
  {
   "cell_type": "code",
   "execution_count": 5,
   "metadata": {},
   "outputs": [
    {
     "name": "stdout",
     "output_type": "stream",
     "text": [
      "range(0, 1)\n",
      "0\n",
      "28\n",
      "0x7ff8c80ba190\n",
      "0x7ff8c80ba190\n",
      "0x24a5db10540\n"
     ]
    }
   ],
   "source": [
    "\"Numpy requires less memory, Fast and Convenient compared to list\"\n",
    "\n",
    "import time\n",
    "import sys\n",
    "\n",
    "siz = 1\n",
    "si = siz\n",
    "lis = range(siz)\n",
    "print(lis)\n",
    "\n",
    "for x in lis:\n",
    "    print(x)\n",
    "    \n",
    "    print(sys.getsizeof(4)*len(lis))\n",
    "    \n",
    "\"\"\"\n",
    "Identity of variable is along integer which is constant during its lifetime.\n",
    "Two objects with non-overlapping lifetimes can have same id()\n",
    "Same variable with different name will have the address identity\"\"\"\n",
    "\n",
    "print(hex(id(siz)))\n",
    "print(hex(id(si)))\n",
    "print(hex(id(lis)))"
   ]
  },
  {
   "cell_type": "code",
   "execution_count": 6,
   "metadata": {},
   "outputs": [
    {
     "name": "stdout",
     "output_type": "stream",
     "text": [
      "[0]\n",
      " 0\n",
      " 4\n"
     ]
    }
   ],
   "source": [
    "array = np.arange(siz)\n",
    "print(array)\n",
    "\n",
    "for x in array:\n",
    "    print('', x)\n",
    "    \n",
    "print('',array.itemsize*array.size)"
   ]
  },
  {
   "cell_type": "code",
   "execution_count": 7,
   "metadata": {},
   "outputs": [
    {
     "name": "stdout",
     "output_type": "stream",
     "text": [
      "28\n"
     ]
    }
   ],
   "source": [
    "a = 1000\n",
    "print(sys.getsizeof(a))"
   ]
  },
  {
   "cell_type": "code",
   "execution_count": 11,
   "metadata": {},
   "outputs": [
    {
     "name": "stdout",
     "output_type": "stream",
     "text": [
      "4\n"
     ]
    }
   ],
   "source": [
    "b = np.array(4)\n",
    "print(b.itemsize)"
   ]
  },
  {
   "cell_type": "code",
   "execution_count": 12,
   "metadata": {},
   "outputs": [],
   "source": [
    "siz1 = 1000000\n",
    "list1 = range(siz1)\n",
    "list2 = range(siz1)\n",
    "\n",
    "array1 = np.arange(siz1)\n",
    "array2 = np.arange(siz1)"
   ]
  },
  {
   "cell_type": "code",
   "execution_count": 13,
   "metadata": {},
   "outputs": [
    {
     "name": "stdout",
     "output_type": "stream",
     "text": [
      "Python list took:  112732.4104309082\n"
     ]
    }
   ],
   "source": [
    "start = time.time() #Capturing time\n",
    "\n",
    "#Adding Python list\n",
    "sumlis = [(x+y) for x,y in zip(list1,list2)]\n",
    "\n",
    "#time for adding python list\n",
    "print(\"Python list took: \", (time.time()-start)*1000000) #Multiplication by 1000000"
   ]
  },
  {
   "cell_type": "code",
   "execution_count": 14,
   "metadata": {},
   "outputs": [
    {
     "name": "stdout",
     "output_type": "stream",
     "text": [
      "Numpy tool:  5981.922149658203\n"
     ]
    }
   ],
   "source": [
    "start = time.time()\n",
    "\n",
    "#addign numpy array is more convenient\n",
    "sumarr = array1 + array2\n",
    "\n",
    "#Time for adding Numpy arrays\n",
    "print(\"Numpy tool: \", (time.time()-start)*1000000)"
   ]
  }
 ],
 "metadata": {
  "kernelspec": {
   "display_name": "Python 3",
   "language": "python",
   "name": "python3"
  },
  "language_info": {
   "codemirror_mode": {
    "name": "ipython",
    "version": 3
   },
   "file_extension": ".py",
   "mimetype": "text/x-python",
   "name": "python",
   "nbconvert_exporter": "python",
   "pygments_lexer": "ipython3",
   "version": "3.7.4"
  }
 },
 "nbformat": 4,
 "nbformat_minor": 2
}
