{
 "cells": [
  {
   "cell_type": "code",
   "execution_count": 36,
   "metadata": {},
   "outputs": [],
   "source": [
    "import IPython\n",
    "from scipy.io import wavfile\n",
    "import numpy as np\n",
    "import matplotlib.pyplot as plt\n",
    "import scipy.signal\n",
    "from scipy.io.wavfile import read\n",
    "from scipy.io.wavfile import write\n",
    "import warnings\n",
    "warnings.filterwarnings('ignore')"
   ]
  },
  {
   "cell_type": "code",
   "execution_count": 37,
   "metadata": {},
   "outputs": [],
   "source": [
    "from python_speech_features import mfcc\n",
    "from python_speech_features import logfbank"
   ]
  },
  {
   "cell_type": "code",
   "execution_count": 38,
   "metadata": {},
   "outputs": [],
   "source": [
    "Fs, sig = read (\"C:/Users/ASUS/Desktop/AI Training Data/Yamaha.wav\")"
   ]
  },
  {
   "cell_type": "code",
   "execution_count": 39,
   "metadata": {},
   "outputs": [],
   "source": [
    "#slicing the array\n",
    "ar1 = sig[:,1]"
   ]
  },
  {
   "cell_type": "code",
   "execution_count": 41,
   "metadata": {},
   "outputs": [
    {
     "data": {
      "image/png": "[encoded data removed]",
      "text/plain": [
       "<Figure size 432x288 with 1 Axes>"
      ]
     },
     "metadata": {
      "needs_background": "light"
     },
     "output_type": "display_data"
    }
   ],
   "source": [
    "plt.title('Signal')\n",
    "plt.plot(ar1)\n",
    "plt.show()"
   ]
  },
  {
   "cell_type": "code",
   "execution_count": 42,
   "metadata": {},
   "outputs": [
    {
     "name": "stdout",
     "output_type": "stream",
     "text": [
      "[[15.0595557  19.82129896 19.86767369 16.44947459 16.44070304 15.42106154\n",
      "  17.55733701 19.97847381 20.83256105 18.42118059 18.0580853  17.85654285\n",
      "  18.31424871 19.24467762 19.06424176 19.5679538  18.9853439  19.08767935\n",
      "  18.79515234 17.96526871 17.05249852 16.81322381 17.38747652 18.33825131\n",
      "  18.4534702  17.67086132]\n",
      " [16.6603626  19.78496016 20.0156608  17.55573605 17.05037299 14.88513032\n",
      "  15.93035538 19.02254663 20.12025528 17.53332836 17.32858053 17.10597985\n",
      "  16.93218611 17.62242649 17.3341151  18.53706528 17.71570692 16.15230402\n",
      "  15.14181006 15.14104158 15.77542555 16.06406126 15.28261101 15.27932614\n",
      "  17.04083052 16.49760078]]\n"
     ]
    }
   ],
   "source": [
    "#feature extraction\n",
    "#Using mfcc which uses fourier transforms we can use it for speech recognition, instrument sounds etc.\n",
    "mfcc_feat = mfcc(sig,Fs,nfft=1103)\n",
    "fbank_feat = logfbank(sig,Fs,nfft=1103)\n",
    "print(fbank_feat[1:3,:])"
   ]
  },
  {
   "cell_type": "code",
   "execution_count": null,
   "metadata": {},
   "outputs": [],
   "source": []
  }
 ],
 "metadata": {
  "kernelspec": {
   "display_name": "Python 3",
   "language": "python",
   "name": "python3"
  },
  "language_info": {
   "codemirror_mode": {
    "name": "ipython",
    "version": 3
   },
   "file_extension": ".py",
   "mimetype": "text/x-python",
   "name": "python",
   "nbconvert_exporter": "python",
   "pygments_lexer": "ipython3",
   "version": "3.7.4"
  }
 },
 "nbformat": 4,
 "nbformat_minor": 2
}
