{
 "cells": [
  {
   "cell_type": "code",
   "execution_count": 3,
   "metadata": {},
   "outputs": [],
   "source": [
    "from sklearn.preprocessing import Normalizer\n",
    "import pandas\n",
    "import numpy"
   ]
  },
  {
   "cell_type": "code",
   "execution_count": 4,
   "metadata": {},
   "outputs": [],
   "source": [
    "names = ['plas', 'pres', 'skin', 'test', 'mass', 'pedi', 'age', 'class']\n",
    "datapath = \"C:/Users/ASUS/Desktop/AI Training Data/Diabetes1.csv\"\n",
    "dataframe = pandas.read_csv(datapath, names=names)\n",
    "array = dataframe.values"
   ]
  },
  {
   "cell_type": "code",
   "execution_count": 7,
   "metadata": {},
   "outputs": [],
   "source": [
    "X=array[:,0:7]\n",
    "Y=array[:,7]\n",
    "scaler = Normalizer().fit(X)\n",
    "normalizedX = scaler.transform(X)"
   ]
  },
  {
   "cell_type": "code",
   "execution_count": 8,
   "metadata": {},
   "outputs": [
    {
     "data": {
      "text/plain": [
       "array([[148.   ,  72.   ,  35.   , ...,  33.6  ,   0.627,  50.   ],\n",
       "       [ 85.   ,  66.   ,  29.   , ...,  26.6  ,   0.351,  31.   ],\n",
       "       [183.   ,  64.   ,   0.   , ...,  23.3  ,   0.672,  32.   ],\n",
       "       ...,\n",
       "       [121.   ,  72.   ,  23.   , ...,  26.2  ,   0.245,  30.   ],\n",
       "       [126.   ,  60.   ,   0.   , ...,  30.1  ,   0.349,  47.   ],\n",
       "       [ 93.   ,  70.   ,  31.   , ...,  30.4  ,   0.315,  23.   ]])"
      ]
     },
     "execution_count": 8,
     "metadata": {},
     "output_type": "execute_result"
    }
   ],
   "source": [
    "X"
   ]
  },
  {
   "cell_type": "code",
   "execution_count": 9,
   "metadata": {},
   "outputs": [
    {
     "data": {
      "text/plain": [
       "768"
      ]
     },
     "execution_count": 9,
     "metadata": {},
     "output_type": "execute_result"
    }
   ],
   "source": [
    "len(Y)"
   ]
  },
  {
   "cell_type": "code",
   "execution_count": 11,
   "metadata": {},
   "outputs": [
    {
     "name": "stdout",
     "output_type": "stream",
     "text": [
      "[[0.828 0.403 0.196 0.    0.188 0.004 0.28 ]\n",
      " [0.716 0.556 0.244 0.    0.224 0.003 0.261]\n",
      " [0.925 0.323 0.    0.    0.118 0.003 0.162]\n",
      " [0.588 0.436 0.152 0.622 0.186 0.001 0.139]\n",
      " [0.596 0.174 0.152 0.731 0.188 0.01  0.144]\n",
      " [0.81  0.517 0.    0.    0.179 0.001 0.21 ]\n",
      " [0.566 0.363 0.232 0.639 0.225 0.002 0.189]]\n"
     ]
    }
   ],
   "source": [
    "numpy.set_printoptions(precision=3)\n",
    "print(normalizedX[0:7,:])"
   ]
  },
  {
   "cell_type": "code",
   "execution_count": null,
   "metadata": {},
   "outputs": [],
   "source": []
  }
 ],
 "metadata": {
  "kernelspec": {
   "display_name": "Python 3",
   "language": "python",
   "name": "python3"
  },
  "language_info": {
   "codemirror_mode": {
    "name": "ipython",
    "version": 3
   },
   "file_extension": ".py",
   "mimetype": "text/x-python",
   "name": "python",
   "nbconvert_exporter": "python",
   "pygments_lexer": "ipython3",
   "version": "3.7.4"
  }
 },
 "nbformat": 4,
 "nbformat_minor": 2
}
