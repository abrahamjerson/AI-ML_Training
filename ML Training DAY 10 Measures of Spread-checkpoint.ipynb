{
 "cells": [
  {
   "cell_type": "code",
   "execution_count": 1,
   "metadata": {},
   "outputs": [],
   "source": [
    "%matplotlib inline\n",
    "import numpy as np\n",
    "import pandas as pd\n",
    "import statistics as stats\n",
    "import matplotlib.pyplot as plt\n",
    "import math"
   ]
  },
  {
   "cell_type": "code",
   "execution_count": 2,
   "metadata": {},
   "outputs": [
    {
     "name": "stdout",
     "output_type": "stream",
     "text": [
      "List one is:\n",
      "0   -10\n",
      "1     0\n",
      "2    10\n",
      "3    20\n",
      "4    30\n",
      "dtype: int64\n",
      "\n",
      "The list two is\n",
      "0     8\n",
      "1     9\n",
      "2    10\n",
      "3    11\n",
      "4    12\n",
      "dtype: int64\n"
     ]
    }
   ],
   "source": [
    "#The  spread. A set of numbers taken from Khan Academy\n",
    "list_one = pd.Series([-10, 0, 10, 20, 30])\n",
    "list_two = pd.Series([8, 9, 10, 11, 12])\n",
    "print(\"List one is:\")\n",
    "print(list_one)\n",
    "print(\"\\nThe list two is\")\n",
    "print(list_two)"
   ]
  },
  {
   "cell_type": "code",
   "execution_count": 3,
   "metadata": {},
   "outputs": [
    {
     "name": "stdout",
     "output_type": "stream",
     "text": [
      "12.0\n"
     ]
    }
   ],
   "source": [
    "#Measures of Spread\n",
    "#Computing Mean Absolute Deviation (MAD) list_one \n",
    "\n",
    "#Data points [-10, 0, 10, 20, 30]\n",
    "#Mean:10\n",
    "\n",
    "MAD = (abs(-10 - 10) + abs (0 - 10) + abs(10 - 10) + abs (20 -10) + abs(30 - 10))/5\n",
    "\n",
    "print(MAD)"
   ]
  },
  {
   "cell_type": "code",
   "execution_count": 4,
   "metadata": {},
   "outputs": [
    {
     "name": "stdout",
     "output_type": "stream",
     "text": [
      "[20. 10.  0. 10. 20.]\n",
      "12.0\n"
     ]
    }
   ],
   "source": [
    "print(np.abs(list_one.values-np.mean(list_one.values)))\n",
    "print(list_one.mad())"
   ]
  },
  {
   "cell_type": "code",
   "execution_count": 5,
   "metadata": {},
   "outputs": [
    {
     "name": "stdout",
     "output_type": "stream",
     "text": [
      "14.142135623730951\n",
      "14.142135623730951\n",
      "15.811388300841896\n",
      "14.142135623730951\n"
     ]
    }
   ],
   "source": [
    "#Measures of Spread\n",
    "\n",
    "#Data points [-10, 0, 10, 20, 30]\n",
    "#MEan = 10\n",
    "\n",
    "#Computing Standard Deviation (Root Mean Squared Deviation)\n",
    "\n",
    "variance = ((-10 - 10)**2 + (0 - 10)**2 + (10 - 10)**2 + (20 - 10)**2 + (30 - 10)**2)/5\n",
    "\n",
    "print(math.sqrt(variance))\n",
    "print(np.sqrt(variance))\n",
    "print(list_one.std()) #By default pandas return unbiased answer. Pandas always uses n-1 for division.\n",
    "print(np.std(list_one.values))"
   ]
  },
  {
   "cell_type": "code",
   "execution_count": 6,
   "metadata": {},
   "outputs": [
    {
     "name": "stdout",
     "output_type": "stream",
     "text": [
      "200.0\n",
      "200.0\n"
     ]
    }
   ],
   "source": [
    "#Computing Mean Squared DEviation (Variance) \n",
    "variance = ((-10 - 10)**2 + (0 - 10)**2 + (10 - 10)**2 + (20 - 10)**2 + (30 - 10)**2)/5\n",
    "print(variance)\n",
    "print(np.var(list_one))"
   ]
  },
  {
   "cell_type": "code",
   "execution_count": 7,
   "metadata": {},
   "outputs": [
    {
     "name": "stdout",
     "output_type": "stream",
     "text": [
      "200.0\n",
      "2.0\n"
     ]
    }
   ],
   "source": [
    "#And Pandas agrees\n",
    "#First set has a much higher variance than second one.\n",
    "\n",
    "#ddof - Degree of Freedom\n",
    "print(list_one.var(ddof =0))\n",
    "print(list_two.var(ddof=0))"
   ]
  },
  {
   "cell_type": "code",
   "execution_count": 8,
   "metadata": {},
   "outputs": [
    {
     "name": "stdout",
     "output_type": "stream",
     "text": [
      "250.0\n",
      "2.5\n"
     ]
    }
   ],
   "source": [
    "#And Pandas does'nt agrees\n",
    "#Please dont ask why ddof =0, it has to do with sample variance.\n",
    "print(list_one.var(ddof=1))\n",
    "print(list_two.var(ddof=1))"
   ]
  },
  {
   "cell_type": "code",
   "execution_count": 9,
   "metadata": {},
   "outputs": [
    {
     "name": "stdout",
     "output_type": "stream",
     "text": [
      "250.0\n",
      "2.5\n"
     ]
    }
   ],
   "source": [
    "#By default pandas returns unbiased standard deviation and variance\n",
    "print(list_one.var())\n",
    "print(list_two.var())"
   ]
  }
 ],
 "metadata": {
  "kernelspec": {
   "display_name": "Python 3",
   "language": "python",
   "name": "python3"
  },
  "language_info": {
   "codemirror_mode": {
    "name": "ipython",
    "version": 3
   },
   "file_extension": ".py",
   "mimetype": "text/x-python",
   "name": "python",
   "nbconvert_exporter": "python",
   "pygments_lexer": "ipython3",
   "version": "3.7.4"
  }
 },
 "nbformat": 4,
 "nbformat_minor": 2
}
