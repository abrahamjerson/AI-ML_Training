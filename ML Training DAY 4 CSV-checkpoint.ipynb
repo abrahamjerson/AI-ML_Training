{
 "cells": [
  {
   "cell_type": "code",
   "execution_count": 73,
   "metadata": {},
   "outputs": [],
   "source": [
    "import pandas\n",
    "import numpy"
   ]
  },
  {
   "cell_type": "code",
   "execution_count": 74,
   "metadata": {},
   "outputs": [
    {
     "data": {
      "text/html": [
       "<div>\n",
       "<style scoped>\n",
       "    .dataframe tbody tr th:only-of-type {\n",
       "        vertical-align: middle;\n",
       "    }\n",
       "\n",
       "    .dataframe tbody tr th {\n",
       "        vertical-align: top;\n",
       "    }\n",
       "\n",
       "    .dataframe thead th {\n",
       "        text-align: right;\n",
       "    }\n",
       "</style>\n",
       "<table border=\"1\" class=\"dataframe\">\n",
       "  <thead>\n",
       "    <tr style=\"text-align: right;\">\n",
       "      <th></th>\n",
       "      <th>PID</th>\n",
       "      <th>ST_NUM</th>\n",
       "      <th>ST_NAME</th>\n",
       "      <th>OWN_OCCUPIED</th>\n",
       "      <th>NUM_BEDROOMS</th>\n",
       "      <th>NUM_BATH</th>\n",
       "      <th>SQ_FT</th>\n",
       "    </tr>\n",
       "  </thead>\n",
       "  <tbody>\n",
       "    <tr>\n",
       "      <td>0</td>\n",
       "      <td>100001000.0</td>\n",
       "      <td>104.0</td>\n",
       "      <td>PUTNAM</td>\n",
       "      <td>Y</td>\n",
       "      <td>3</td>\n",
       "      <td>1</td>\n",
       "      <td>1000</td>\n",
       "    </tr>\n",
       "    <tr>\n",
       "      <td>1</td>\n",
       "      <td>100002000.0</td>\n",
       "      <td>197.0</td>\n",
       "      <td>LEXINGTON</td>\n",
       "      <td>N</td>\n",
       "      <td>3</td>\n",
       "      <td>1.5</td>\n",
       "      <td>--</td>\n",
       "    </tr>\n",
       "    <tr>\n",
       "      <td>2</td>\n",
       "      <td>100003000.0</td>\n",
       "      <td>NaN</td>\n",
       "      <td>LEXINGTON</td>\n",
       "      <td>N</td>\n",
       "      <td>NaN</td>\n",
       "      <td>1</td>\n",
       "      <td>850</td>\n",
       "    </tr>\n",
       "    <tr>\n",
       "      <td>3</td>\n",
       "      <td>100004000.0</td>\n",
       "      <td>201.0</td>\n",
       "      <td>BERKELEY</td>\n",
       "      <td>12</td>\n",
       "      <td>1</td>\n",
       "      <td>NaN</td>\n",
       "      <td>700</td>\n",
       "    </tr>\n",
       "    <tr>\n",
       "      <td>4</td>\n",
       "      <td>NaN</td>\n",
       "      <td>203.0</td>\n",
       "      <td>BERKELEY</td>\n",
       "      <td>Y</td>\n",
       "      <td>3</td>\n",
       "      <td>2</td>\n",
       "      <td>1600</td>\n",
       "    </tr>\n",
       "  </tbody>\n",
       "</table>\n",
       "</div>"
      ],
      "text/plain": [
       "           PID  ST_NUM    ST_NAME OWN_OCCUPIED NUM_BEDROOMS NUM_BATH SQ_FT\n",
       "0  100001000.0   104.0     PUTNAM            Y            3        1  1000\n",
       "1  100002000.0   197.0  LEXINGTON            N            3      1.5    --\n",
       "2  100003000.0     NaN  LEXINGTON            N          NaN        1   850\n",
       "3  100004000.0   201.0   BERKELEY           12            1      NaN   700\n",
       "4          NaN   203.0   BERKELEY            Y            3        2  1600"
      ]
     },
     "execution_count": 74,
     "metadata": {},
     "output_type": "execute_result"
    }
   ],
   "source": [
    "df3 = pandas.read_csv(r\"C:/Users/ASUS/Desktop/AI Training Data/realestate.csv\")\n",
    "df3.head()"
   ]
  },
  {
   "cell_type": "code",
   "execution_count": 75,
   "metadata": {
    "scrolled": true
   },
   "outputs": [
    {
     "name": "stdout",
     "output_type": "stream",
     "text": [
      " [ST_NUM]\n",
      "0    104.0\n",
      "1    197.0\n",
      "2      NaN\n",
      "3    201.0\n",
      "4    203.0\n",
      "5    207.0\n",
      "6      NaN\n",
      "7    213.0\n",
      "8    215.0\n",
      "Name: ST_NUM, dtype: float64\n",
      "\n",
      "\n"
     ]
    }
   ],
   "source": [
    "print(' [ST_NUM]')\n",
    "print(df3['ST_NUM'])\n",
    "print('\\n')"
   ]
  },
  {
   "cell_type": "code",
   "execution_count": 76,
   "metadata": {},
   "outputs": [
    {
     "name": "stdout",
     "output_type": "stream",
     "text": [
      "Detecting standard missing values\n",
      "0    False\n",
      "1    False\n",
      "2     True\n",
      "3    False\n",
      "4    False\n",
      "5    False\n",
      "6     True\n",
      "7    False\n",
      "8    False\n",
      "Name: ST_NUM, dtype: bool\n",
      "\n",
      "\n"
     ]
    }
   ],
   "source": [
    "print('Detecting standard missing values')\n",
    "print(df3['ST_NUM'].isnull())\n",
    "print(\"\\n\")"
   ]
  },
  {
   "cell_type": "code",
   "execution_count": 77,
   "metadata": {},
   "outputs": [
    {
     "name": "stdout",
     "output_type": "stream",
     "text": [
      " SQ_FT\n",
      "0    1000\n",
      "1      --\n",
      "2     850\n",
      "3     700\n",
      "4    1600\n",
      "5     800\n",
      "6     950\n",
      "7     NaN\n",
      "8    1800\n",
      "Name: SQ_FT, dtype: object\n",
      "Detecting standard missing values\n",
      "0    False\n",
      "1    False\n",
      "2    False\n",
      "3    False\n",
      "4    False\n",
      "5    False\n",
      "6    False\n",
      "7     True\n",
      "8    False\n",
      "Name: SQ_FT, dtype: bool\n",
      "\n",
      "\n"
     ]
    }
   ],
   "source": [
    "print(' SQ_FT')\n",
    "print(df3['SQ_FT'])\n",
    "print(\"Detecting standard missing values\")\n",
    "print(df3['SQ_FT'].isnull())     #not detecting '--' as null.\n",
    "print(\"\\n\")"
   ]
  },
  {
   "cell_type": "code",
   "execution_count": 78,
   "metadata": {},
   "outputs": [
    {
     "name": "stdout",
     "output_type": "stream",
     "text": [
      "0    False\n",
      "1     True\n",
      "2    False\n",
      "3    False\n",
      "4    False\n",
      "5    False\n",
      "6    False\n",
      "7     True\n",
      "8    False\n",
      "Name: SQ_FT, dtype: bool\n",
      "\n",
      "\n"
     ]
    }
   ],
   "source": [
    "missing_values=[\"--\",\"__\",\"na\"]\n",
    "df3 = pandas.read_csv(r\"C:/Users/ASUS/Desktop/AI Training Data/realestate.csv\", na_values = missing_values)\n",
    "print(df3['SQ_FT'].isnull())\n",
    "print(\"\\n\")"
   ]
  },
  {
   "cell_type": "code",
   "execution_count": 79,
   "metadata": {},
   "outputs": [
    {
     "name": "stdout",
     "output_type": "stream",
     "text": [
      "0      Y\n",
      "1      N\n",
      "2      N\n",
      "3     12\n",
      "4      Y\n",
      "5      Y\n",
      "6    NaN\n",
      "7      Y\n",
      "8      Y\n",
      "Name: OWN_OCCUPIED, dtype: object\n"
     ]
    }
   ],
   "source": [
    "print(df3['OWN_OCCUPIED'])"
   ]
  },
  {
   "cell_type": "code",
   "execution_count": 80,
   "metadata": {},
   "outputs": [
    {
     "name": "stdout",
     "output_type": "stream",
     "text": [
      "0    False\n",
      "1    False\n",
      "2    False\n",
      "3    False\n",
      "4    False\n",
      "5    False\n",
      "6     True\n",
      "7    False\n",
      "8    False\n",
      "Name: OWN_OCCUPIED, dtype: bool\n",
      "\n",
      "\n"
     ]
    }
   ],
   "source": [
    "print(df3['OWN_OCCUPIED'].isnull())\n",
    "print(\"\\n\")"
   ]
  },
  {
   "cell_type": "code",
   "execution_count": 81,
   "metadata": {},
   "outputs": [
    {
     "name": "stdout",
     "output_type": "stream",
     "text": [
      "Total no. of entries =  9\n",
      "\n",
      "\n",
      "0      Y\n",
      "1      N\n",
      "2      N\n",
      "3    NaN\n",
      "4      Y\n",
      "5      Y\n",
      "6    NaN\n",
      "7      Y\n",
      "8      Y\n",
      "Name: OWN_OCCUPIED, dtype: object\n"
     ]
    }
   ],
   "source": [
    "cnt=0\n",
    "for row in df3['OWN_OCCUPIED']:\n",
    "    try:\n",
    "        int(row)\n",
    "        df3.loc[cnt, 'OWN_OCCUPIED']=numpy.nan\n",
    "    except ValueError:\n",
    "        pass\n",
    "    cnt+=1\n",
    "print(\"Total no. of entries = \", cnt)\n",
    "print(\"\\n\")\n",
    "print(df3['OWN_OCCUPIED'])"
   ]
  },
  {
   "cell_type": "code",
   "execution_count": 82,
   "metadata": {},
   "outputs": [
    {
     "name": "stdout",
     "output_type": "stream",
     "text": [
      "Total miss of OWN_OCCUPIED feature \n",
      "\n",
      "Out: 2\n",
      "\n",
      "\n"
     ]
    }
   ],
   "source": [
    "print(\"Total miss of OWN_OCCUPIED feature\", '\\n')\n",
    "print(\"Out:\", df3['OWN_OCCUPIED'].isnull().sum())\n",
    "print(\"\\n\")"
   ]
  },
  {
   "cell_type": "code",
   "execution_count": 83,
   "metadata": {},
   "outputs": [
    {
     "name": "stdout",
     "output_type": "stream",
     "text": [
      "Total missing feature wise seperated \n",
      "\n",
      "Out:\n",
      "PID             1\n",
      "ST_NUM          2\n",
      "ST_NAME         0\n",
      "OWN_OCCUPIED    2\n",
      "NUM_BEDROOMS    3\n",
      "NUM_BATH        1\n",
      "SQ_FT           2\n",
      "dtype: int64\n",
      "\n",
      "\n"
     ]
    }
   ],
   "source": [
    "print(\"Total missing feature wise seperated\", \"\\n\")\n",
    "print(\"Out:\")\n",
    "print(df3.isnull().sum())\n",
    "print(\"\\n\")"
   ]
  },
  {
   "cell_type": "code",
   "execution_count": 84,
   "metadata": {},
   "outputs": [
    {
     "name": "stdout",
     "output_type": "stream",
     "text": [
      "Missing values in data if any: \n",
      "Out:  True\n",
      "\n",
      "\n"
     ]
    }
   ],
   "source": [
    "print(\"Missing values in data if any: \")\n",
    "print(\"Out: \",df3.isnull().values.any())\n",
    "print(\"\\n\")"
   ]
  },
  {
   "cell_type": "code",
   "execution_count": 85,
   "metadata": {},
   "outputs": [
    {
     "name": "stdout",
     "output_type": "stream",
     "text": [
      "Total number of missing values \n",
      "\n",
      "Out: 11\n"
     ]
    }
   ],
   "source": [
    "print(\"Total number of missing values\", \"\\n\")\n",
    "print(\"Out:\", df3.isnull().sum().sum())"
   ]
  },
  {
   "cell_type": "code",
   "execution_count": 86,
   "metadata": {},
   "outputs": [
    {
     "name": "stdout",
     "output_type": "stream",
     "text": [
      "Replace missing values in ST_NUM\n",
      "0    104.0\n",
      "1    197.0\n",
      "2    125.0\n",
      "3    201.0\n",
      "4    203.0\n",
      "5    207.0\n",
      "6    125.0\n",
      "7    213.0\n",
      "8    215.0\n",
      "Name: ST_NUM, dtype: float64\n"
     ]
    }
   ],
   "source": [
    "print(\"Replace missing values in ST_NUM\")\n",
    "df3['ST_NUM'].fillna(125, inplace = True)\n",
    "print(df3['ST_NUM'])"
   ]
  },
  {
   "cell_type": "code",
   "execution_count": 87,
   "metadata": {},
   "outputs": [],
   "source": [
    "df3.loc[2, 'ST_NUM'] = 129"
   ]
  },
  {
   "cell_type": "code",
   "execution_count": 88,
   "metadata": {},
   "outputs": [
    {
     "name": "stdout",
     "output_type": "stream",
     "text": [
      "Total no. of apartments = 6 \n",
      "\n",
      "Sum of no. of Bedrooms including all apartments =  13\n",
      "\n",
      "\n",
      "Average no. of Bedrooms =  2\n"
     ]
    }
   ],
   "source": [
    "cnt = 0\n",
    "sum = 0\n",
    "for row in df3 ['NUM_BEDROOMS']:\n",
    "    try:\n",
    "        int(row)\n",
    "        sum +=int(row)\n",
    "        cnt+=1\n",
    "    except ValueError:\n",
    "        pass\n",
    "    \n",
    "print(\"Total no. of apartments =\", cnt, \"\\n\")\n",
    "print(\"Sum of no. of Bedrooms including all apartments = \", sum)\n",
    "print(\"\\n\")\n",
    "mean = sum//cnt\n",
    "print(\"Average no. of Bedrooms = \",mean)"
   ]
  },
  {
   "cell_type": "code",
   "execution_count": 89,
   "metadata": {},
   "outputs": [
    {
     "name": "stdout",
     "output_type": "stream",
     "text": [
      "0    3.0\n",
      "1    3.0\n",
      "2    2.0\n",
      "3    1.0\n",
      "4    3.0\n",
      "5    2.0\n",
      "6    2.0\n",
      "7    1.0\n",
      "8    2.0\n",
      "Name: NUM_BEDROOMS, dtype: float64\n"
     ]
    }
   ],
   "source": [
    "df3['NUM_BEDROOMS'].fillna(mean, inplace=True)\n",
    "print(df3['NUM_BEDROOMS'])"
   ]
  },
  {
   "cell_type": "code",
   "execution_count": 90,
   "metadata": {},
   "outputs": [
    {
     "name": "stdout",
     "output_type": "stream",
     "text": [
      "0    3.0\n",
      "1    3.0\n",
      "2    2.0\n",
      "3    1.0\n",
      "4    3.0\n",
      "5    2.0\n",
      "6    2.0\n",
      "7    1.0\n",
      "8    2.0\n",
      "Name: NUM_BEDROOMS, dtype: float64\n"
     ]
    }
   ],
   "source": [
    "median = df3['NUM_BEDROOMS'].median()\n",
    "df3['NUM_BEDROOMS'].fillna(median, inplace=True)\n",
    "print(df3['NUM_BEDROOMS'])"
   ]
  },
  {
   "cell_type": "code",
   "execution_count": 91,
   "metadata": {},
   "outputs": [
    {
     "name": "stdout",
     "output_type": "stream",
     "text": [
      "0         1\n",
      "1       1.5\n",
      "2         1\n",
      "3       NaN\n",
      "4         2\n",
      "5         1\n",
      "6    HURLEY\n",
      "7         1\n",
      "8         2\n",
      "Name: NUM_BATH, dtype: object\n"
     ]
    }
   ],
   "source": [
    "print(df3['NUM_BATH'])"
   ]
  },
  {
   "cell_type": "code",
   "execution_count": 92,
   "metadata": {},
   "outputs": [],
   "source": [
    "cnt=0\n",
    "for row in df3['NUM_BATH']:\n",
    "    try:\n",
    "        float(row)\n",
    "    except ValueError:\n",
    "        df3.loc[cnt,'NUM_BATH']=numpy.nan\n",
    "    pass\n",
    "    cnt+=1"
   ]
  },
  {
   "cell_type": "code",
   "execution_count": 93,
   "metadata": {},
   "outputs": [
    {
     "name": "stdout",
     "output_type": "stream",
     "text": [
      "0      1\n",
      "1    1.5\n",
      "2      1\n",
      "3      2\n",
      "4      2\n",
      "5      1\n",
      "6      2\n",
      "7      1\n",
      "8      2\n",
      "Name: NUM_BATH, dtype: object\n"
     ]
    }
   ],
   "source": [
    "df3['NUM_BATH'].fillna(mean, inplace=True)\n",
    "print(df3['NUM_BATH'])"
   ]
  }
 ],
 "metadata": {
  "kernelspec": {
   "display_name": "Python 3",
   "language": "python",
   "name": "python3"
  },
  "language_info": {
   "codemirror_mode": {
    "name": "ipython",
    "version": 3
   },
   "file_extension": ".py",
   "mimetype": "text/x-python",
   "name": "python",
   "nbconvert_exporter": "python",
   "pygments_lexer": "ipython3",
   "version": "3.7.4"
  }
 },
 "nbformat": 4,
 "nbformat_minor": 2
}
