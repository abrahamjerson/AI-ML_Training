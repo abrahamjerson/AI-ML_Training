{
 "cells": [
  {
   "cell_type": "code",
   "execution_count": 1,
   "metadata": {},
   "outputs": [
    {
     "name": "stderr",
     "output_type": "stream",
     "text": [
      "'sudo' is not recognized as an internal or external command,\n",
      "operable program or batch file.\n",
      "ERROR: Invalid requirement: \"'gym==0.10.11'\"\n",
      "ERROR: Invalid requirement: \"'imageio==2.4.0'\"\n"
     ]
    },
    {
     "name": "stdout",
     "output_type": "stream",
     "text": [
      "Requirement already satisfied: PILLOW in c:\\programdata\\anaconda3\\lib\\site-packages (7.2.0)\n"
     ]
    },
    {
     "name": "stderr",
     "output_type": "stream",
     "text": [
      "ERROR: Invalid requirement: \"'pyglet==1.3.2'\"\n"
     ]
    },
    {
     "name": "stdout",
     "output_type": "stream",
     "text": [
      "Requirement already satisfied: pyvirtualdisplay in c:\\programdata\\anaconda3\\lib\\site-packages (1.3.2)\n",
      "Requirement already satisfied: EasyProcess in c:\\programdata\\anaconda3\\lib\\site-packages (from pyvirtualdisplay) (0.3)\n",
      "Requirement already satisfied: tf-agents in c:\\programdata\\anaconda3\\lib\\site-packages (0.5.0)\n",
      "Requirement already satisfied: absl-py>=0.6.1 in c:\\programdata\\anaconda3\\lib\\site-packages (from tf-agents) (0.9.0)\n",
      "Requirement already satisfied: six>=1.10.0 in c:\\programdata\\anaconda3\\lib\\site-packages (from tf-agents) (1.15.0)\n",
      "Requirement already satisfied: numpy>=1.13.3 in c:\\programdata\\anaconda3\\lib\\site-packages (from tf-agents) (1.19.0)\n",
      "Requirement already satisfied: gin-config==0.1.3 in c:\\programdata\\anaconda3\\lib\\site-packages (from tf-agents) (0.1.3)\n",
      "Requirement already satisfied: protobuf>=3.11.3 in c:\\programdata\\anaconda3\\lib\\site-packages (from tf-agents) (3.12.3)\n",
      "Requirement already satisfied: tensorflow-probability>=0.9.0 in c:\\programdata\\anaconda3\\lib\\site-packages (from tf-agents) (0.10.1)\n",
      "Requirement already satisfied: setuptools in c:\\programdata\\anaconda3\\lib\\site-packages (from protobuf>=3.11.3->tf-agents) (49.2.0.post20200712)\n",
      "Requirement already satisfied: cloudpickle==1.3 in c:\\programdata\\anaconda3\\lib\\site-packages (from tensorflow-probability>=0.9.0->tf-agents) (1.3.0)\n",
      "Requirement already satisfied: decorator in c:\\programdata\\anaconda3\\lib\\site-packages (from tensorflow-probability>=0.9.0->tf-agents) (4.4.2)\n",
      "Requirement already satisfied: gast>=0.3.2 in c:\\programdata\\anaconda3\\lib\\site-packages (from tensorflow-probability>=0.9.0->tf-agents) (0.3.3)\n"
     ]
    }
   ],
   "source": [
    "# Online Class Cart Pole Code\n",
    "\n",
    "!sudo apt-get install -y xvfb ffmpeg\n",
    "!pip install 'gym==0.10.11'\n",
    "!pip install 'imageio==2.4.0'\n",
    "!pip install PILLOW\n",
    "!pip install 'pyglet==1.3.2'\n",
    "!pip install pyvirtualdisplay\n",
    "!pip install tf-agents "
   ]
  },
  {
   "cell_type": "code",
   "execution_count": 2,
   "metadata": {},
   "outputs": [],
   "source": [
    "from __future__ import absolute_import, division, print_function"
   ]
  },
  {
   "cell_type": "code",
   "execution_count": 3,
   "metadata": {},
   "outputs": [],
   "source": [
    "import base64 \n",
    "import imageio \n",
    "import IPython\n",
    "import matplotlib\n",
    "import matplotlib.pyplot as plt \n",
    "import numpy as np\n",
    "import PIL.Image\n",
    "import pyvirtualdisplay \n",
    "import tensorflow as tf"
   ]
  },
  {
   "cell_type": "code",
   "execution_count": 4,
   "metadata": {},
   "outputs": [],
   "source": [
    "from tf_agents.agents.dqn import dqn_agent\n",
    "from tf_agents.drivers import dynamic_step_driver \n",
    "from tf_agents.environments import suite_gym\n",
    "from tf_agents.environments import tf_py_environment \n",
    "from tf_agents.eval import metric_utils\n",
    "from tf_agents.metrics import tf_metrics \n",
    "from tf_agents.networks import q_network\n",
    "from tf_agents.policies import random_tf_policy\n",
    "from tf_agents.replay_buffers import tf_uniform_replay_buffer \n",
    "from tf_agents.trajectories import trajectory\n",
    "from tf_agents.utils import common"
   ]
  },
  {
   "cell_type": "code",
   "execution_count": 6,
   "metadata": {},
   "outputs": [],
   "source": [
    "# Set up a virtual display for rendering OpenAI gym environments. display = pyvirtualdisplay.Display(visible=0, size=(1400, 900)).start()\n",
    "\n",
    "tf.compat.v1.enable_v2_behavior()"
   ]
  },
  {
   "cell_type": "code",
   "execution_count": 21,
   "metadata": {},
   "outputs": [],
   "source": [
    "num_iterations = 10000 #@param {type:\"integer\"}\n",
    "initial_collect_steps = 1000 #@param {type:\"integer\"} \n",
    "collect_steps_per_iteration = 1 #@param {type:\"integer\"} \n",
    "replay_buffer_max_length = 50000 #@param {type:\"integer\"}\n",
    "batch_size = 64 #@param {type:\"integer\"} \n",
    "learning_rate = 1e-3 #@param {type:\"number\"}\n",
    "log_interval = 200 # @param {type:\"integer\"}\n",
    "num_eval_episodes = 10 #@param {type:\"integer\"} \n",
    "eval_interval = 1000 #@param {type:\"integer\"}"
   ]
  },
  {
   "cell_type": "code",
   "execution_count": 22,
   "metadata": {},
   "outputs": [],
   "source": [
    "#Creating environment for Cart Pole\n",
    "\n",
    "env_name = 'CartPole-v0'\n",
    "env = suite_gym.load(env_name)"
   ]
  },
  {
   "cell_type": "code",
   "execution_count": null,
   "metadata": {},
   "outputs": [],
   "source": [
    "env.reset()\n",
    "PIL.Image.fromarray(env.render())"
   ]
  },
  {
   "cell_type": "code",
   "execution_count": null,
   "metadata": {},
   "outputs": [],
   "source": [
    "time_step = env.reset() \n",
    "print('Time step:') \n",
    "print(time_step)\n",
    "action = np.array(1, dtype=np.int32)\n",
    "next_time_step = env.step(action) \n",
    "print('Next time step:') \n",
    "print(next_time_step)"
   ]
  },
  {
   "cell_type": "code",
   "execution_count": null,
   "metadata": {},
   "outputs": [],
   "source": [
    "train_py_env = suite_gym.load(env_name)\n",
    "eval_py_env = suite_gym.load(env_name)"
   ]
  },
  {
   "cell_type": "code",
   "execution_count": null,
   "metadata": {},
   "outputs": [],
   "source": [
    "train_env = tf_py_environment.TFPyEnvironment(train_py_env)\n",
    "eval_env = tf_py_environment.TFPyEnvironment(eval_py_env)"
   ]
  },
  {
   "cell_type": "code",
   "execution_count": null,
   "metadata": {},
   "outputs": [],
   "source": [
    "fc_layer_params = (100,) \n",
    "q_net = q_network.QNetwork(\n",
    "train_env.observation_spec(), train_env.action_spec(), fc_layer_params=fc_layer_params)"
   ]
  },
  {
   "cell_type": "code",
   "execution_count": null,
   "metadata": {},
   "outputs": [],
   "source": [
    "optimizer = tf.compat.v1.train.AdamOptimizer(learning_rate=learning_rate)\n",
    " \n",
    "train_step_counter = tf.Variable(0)\n",
    "\n",
    "agent = dqn_agent.DqnAgent( train_env.time_step_spec(), train_env.action_spec(), q_network=q_net, optimizer=optimizer,td_errors_loss_fn=common.element_wise_squared_loss, train_step_counter=train_step_counter)\n",
    "\n",
    "agent.initialize()"
   ]
  },
  {
   "cell_type": "code",
   "execution_count": null,
   "metadata": {},
   "outputs": [],
   "source": [
    "eval_policy = agent.policy \n",
    "collect_policy = agent.collect_policy"
   ]
  },
  {
   "cell_type": "code",
   "execution_count": null,
   "metadata": {},
   "outputs": [],
   "source": [
    "random_policy = random_tf_policy.RandomTFPolicy(train_env.time_step_spec(),train_env.action_spec())"
   ]
  },
  {
   "cell_type": "code",
   "execution_count": null,
   "metadata": {},
   "outputs": [],
   "source": [
    "example_environment = tf_py_environment.TFPyEnvironment( suite_gym.load('CartPole-v0'))"
   ]
  },
  {
   "cell_type": "code",
   "execution_count": null,
   "metadata": {},
   "outputs": [],
   "source": [
    "time_step = example_environment.reset()"
   ]
  },
  {
   "cell_type": "code",
   "execution_count": null,
   "metadata": {},
   "outputs": [],
   "source": [
    "random_policy.action(time_step)"
   ]
  },
  {
   "cell_type": "code",
   "execution_count": null,
   "metadata": {},
   "outputs": [],
   "source": [
    "def compute_avg_return(environment, policy, num_episodes=10): \n",
    "    total_return = 0.0\n",
    "    for _ in range(num_episodes):\n",
    "        time_step = environment.reset() episode_return = 0.0\n",
    "        while not time_step.is_last(): \n",
    "            action_step = policy.action(time_step)\n",
    "            time_step = environment.step(action_step.action) \n",
    "            episode_return += time_step.reward\n",
    "            total_return += episode_return\n",
    "            avg_return = total_return / num_episodes \n",
    "    return avg_return.numpy()[0]"
   ]
  },
  {
   "cell_type": "code",
   "execution_count": null,
   "metadata": {},
   "outputs": [],
   "source": []
  }
 ],
 "metadata": {
  "kernelspec": {
   "display_name": "Python 3",
   "language": "python",
   "name": "python3"
  },
  "language_info": {
   "codemirror_mode": {
    "name": "ipython",
    "version": 3
   },
   "file_extension": ".py",
   "mimetype": "text/x-python",
   "name": "python",
   "nbconvert_exporter": "python",
   "pygments_lexer": "ipython3",
   "version": "3.7.8"
  }
 },
 "nbformat": 4,
 "nbformat_minor": 2
}
