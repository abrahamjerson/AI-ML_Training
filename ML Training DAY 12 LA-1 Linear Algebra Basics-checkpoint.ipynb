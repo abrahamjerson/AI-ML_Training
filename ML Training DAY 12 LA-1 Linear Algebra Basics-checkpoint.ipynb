{
 "cells": [
  {
   "cell_type": "code",
   "execution_count": 1,
   "metadata": {},
   "outputs": [
    {
     "name": "stdout",
     "output_type": "stream",
     "text": [
      "13\n",
      "0xd\n",
      "140706484822800\n",
      "0x7ff8c80ba310\n"
     ]
    }
   ],
   "source": [
    "#NP LA-1 - Linear Algebra Basics\n",
    "#Some basic variable defenitions\n",
    "\n",
    "a = 6\n",
    "b = 7\n",
    "string_var = \"Hello, World!\"\n",
    "also_a_string_var = 'Hello, world!'\n",
    "c = a+b\n",
    "print(c)\n",
    "print(hex(c))\n",
    "print(id(c)) #unique long integer identity, constant during its lifetime\n",
    "print(hex(id(c)))"
   ]
  },
  {
   "cell_type": "code",
   "execution_count": 2,
   "metadata": {},
   "outputs": [
    {
     "name": "stdout",
     "output_type": "stream",
     "text": [
      "Hello, World! 6 7\n"
     ]
    }
   ],
   "source": [
    "print(string_var, a, b)"
   ]
  },
  {
   "cell_type": "code",
   "execution_count": 5,
   "metadata": {},
   "outputs": [
    {
     "name": "stdout",
     "output_type": "stream",
     "text": [
      "[] \n",
      "\n",
      "[] \n",
      "\n",
      "[0, 0, 0, 0, 0]\n"
     ]
    }
   ],
   "source": [
    "#Lists\n",
    "\n",
    "empty_list = list()\n",
    "also_empty_list = []\n",
    "zeros_list = [0]*5\n",
    "print(empty_list,'\\n')\n",
    "print(also_empty_list, '\\n')\n",
    "print(zeros_list)"
   ]
  },
  {
   "cell_type": "code",
   "execution_count": 6,
   "metadata": {},
   "outputs": [
    {
     "name": "stdout",
     "output_type": "stream",
     "text": [
      "[1]\n",
      "1\n"
     ]
    }
   ],
   "source": [
    "empty_list.append(1)\n",
    "print(empty_list)\n",
    "print(len(empty_list))"
   ]
  },
  {
   "cell_type": "code",
   "execution_count": 7,
   "metadata": {},
   "outputs": [
    {
     "name": "stdout",
     "output_type": "stream",
     "text": [
      "range(0, 10) \n",
      "\n",
      "0\n",
      "1\n",
      "2\n",
      "3\n",
      "4\n",
      "5\n",
      "6\n",
      "7\n",
      "8\n",
      "9\n"
     ]
    }
   ],
   "source": [
    "#List Indexing\n",
    "list_var = range(10)\n",
    "print(list_var,'\\n')\n",
    "for x in list_var:\n",
    "    print(x)"
   ]
  },
  {
   "cell_type": "code",
   "execution_count": 8,
   "metadata": {},
   "outputs": [
    {
     "name": "stdout",
     "output_type": "stream",
     "text": [
      "4\n"
     ]
    }
   ],
   "source": [
    "print(list_var[4])"
   ]
  },
  {
   "cell_type": "code",
   "execution_count": 10,
   "metadata": {},
   "outputs": [
    {
     "name": "stdout",
     "output_type": "stream",
     "text": [
      "range(0, 3) \n",
      "\n",
      "4\n",
      "5\n",
      "6\n"
     ]
    }
   ],
   "source": [
    "print(list_var[0:3], '\\n')\n",
    "#del x\n",
    "for x in list_var[4:7]:\n",
    "    print(x)"
   ]
  },
  {
   "cell_type": "code",
   "execution_count": null,
   "metadata": {},
   "outputs": [],
   "source": [
    "\"\"\"\n",
    "List like tuples, sets and dictionaries is a type of object.\n",
    "All types are objects in Python.\n",
    "If you try to index into the type object, you will get the error message which says:\n",
    "'type' object is not subscriptable\"\"\"\n",
    "\n",
    "print(list[0:3])"
   ]
  },
  {
   "cell_type": "code",
   "execution_count": 22,
   "metadata": {},
   "outputs": [
    {
     "name": "stdout",
     "output_type": "stream",
     "text": [
      "range(0, 3) \n",
      "\n",
      "0\n",
      "1\n",
      "2\n",
      "\n",
      "\n",
      "range(0, 10) \n",
      "\n",
      "9\n"
     ]
    }
   ],
   "source": [
    "print(list_var[0:3], '\\n')\n",
    "\n",
    "for x in list_var[0:3]:\n",
    "    print(x)\n",
    "print('\\n')\n",
    "#Empty index means to the beginiing/end\n",
    "print(list_var[::1], '\\n')\n",
    "print(list_var[-1])"
   ]
  },
  {
   "cell_type": "code",
   "execution_count": 14,
   "metadata": {},
   "outputs": [
    {
     "name": "stdout",
     "output_type": "stream",
     "text": [
      "Looping 0\n",
      "Looping 1\n",
      "Looping 2\n",
      "Looping 3\n",
      "Looping 4\n",
      "Looping 5\n",
      "Looping 6\n",
      "Looping 7\n",
      "Looping 8\n",
      "Looping 9\n"
     ]
    }
   ],
   "source": [
    "#Loos in Comprehensions\n",
    "for i in range(10):\n",
    "    print('Looping %d' %i)"
   ]
  },
  {
   "cell_type": "code",
   "execution_count": 17,
   "metadata": {},
   "outputs": [
    {
     "name": "stdout",
     "output_type": "stream",
     "text": [
      "[0.0, 0.5, 1.0, 1.5, 2.0, 2.5, 3.0, 3.5, 4.0, 4.5]\n"
     ]
    }
   ],
   "source": [
    "#Python provides a consise way to construct a list\n",
    "#List Comprehensions\n",
    "\n",
    "filled_list = [a/2 for a in range(10)]\n",
    "print(filled_list)"
   ]
  },
  {
   "cell_type": "code",
   "execution_count": 20,
   "metadata": {},
   "outputs": [
    {
     "name": "stdout",
     "output_type": "stream",
     "text": [
      "{0: 0, 1: 1, 2: 4, 3: 9, 4: 16}\n"
     ]
    }
   ],
   "source": [
    "filled_dict = {a:a**2 for a in range(5)}\n",
    "print(filled_dict)"
   ]
  },
  {
   "cell_type": "code",
   "execution_count": 21,
   "metadata": {},
   "outputs": [
    {
     "name": "stdout",
     "output_type": "stream",
     "text": [
      "[0 1 2 3 4 5 6 7 8 9]\n"
     ]
    }
   ],
   "source": [
    "#Using Numpy\n",
    "\n",
    "import numpy as np\n",
    "Nparray = np.arange(10)\n",
    "print(Nparray)"
   ]
  },
  {
   "cell_type": "code",
   "execution_count": 26,
   "metadata": {},
   "outputs": [
    {
     "name": "stdout",
     "output_type": "stream",
     "text": [
      "[0 3 6 9]\n",
      "<class 'numpy.ndarray'>\n"
     ]
    }
   ],
   "source": [
    "Nparray1 = np.arange(0,10,3)\n",
    "print(Nparray1)\n",
    "print(type(Nparray1))"
   ]
  },
  {
   "cell_type": "code",
   "execution_count": 24,
   "metadata": {},
   "outputs": [
    {
     "name": "stdout",
     "output_type": "stream",
     "text": [
      "9\n"
     ]
    }
   ],
   "source": [
    "print(Nparray[-1])"
   ]
  },
  {
   "cell_type": "code",
   "execution_count": 25,
   "metadata": {},
   "outputs": [
    {
     "name": "stdout",
     "output_type": "stream",
     "text": [
      "[9 8 7 6 5 4 3 2 1 0]\n"
     ]
    }
   ],
   "source": [
    "print(Nparray[::-1])"
   ]
  },
  {
   "cell_type": "code",
   "execution_count": 27,
   "metadata": {},
   "outputs": [
    {
     "name": "stdout",
     "output_type": "stream",
     "text": [
      "[5 4 3 2]\n"
     ]
    }
   ],
   "source": [
    "print(Nparray[5:1:-1])"
   ]
  },
  {
   "cell_type": "code",
   "execution_count": 28,
   "metadata": {},
   "outputs": [
    {
     "name": "stdout",
     "output_type": "stream",
     "text": [
      "[6 4]\n"
     ]
    }
   ],
   "source": [
    "print(Nparray[6:2:-2])"
   ]
  }
 ],
 "metadata": {
  "kernelspec": {
   "display_name": "Python 3",
   "language": "python",
   "name": "python3"
  },
  "language_info": {
   "codemirror_mode": {
    "name": "ipython",
    "version": 3
   },
   "file_extension": ".py",
   "mimetype": "text/x-python",
   "name": "python",
   "nbconvert_exporter": "python",
   "pygments_lexer": "ipython3",
   "version": "3.7.4"
  }
 },
 "nbformat": 4,
 "nbformat_minor": 2
}
