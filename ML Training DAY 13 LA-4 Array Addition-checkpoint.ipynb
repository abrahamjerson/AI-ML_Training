{
 "cells": [
  {
   "cell_type": "code",
   "execution_count": 1,
   "metadata": {},
   "outputs": [],
   "source": [
    "#Why numpy instead of list\n",
    "import numpy as np"
   ]
  },
  {
   "cell_type": "code",
   "execution_count": 3,
   "metadata": {},
   "outputs": [
    {
     "name": "stdout",
     "output_type": "stream",
     "text": [
      "[ 8 10 12] \n",
      "\n",
      "[ 8 10 12]\n"
     ]
    }
   ],
   "source": [
    "# 1-D Array addition is a super position operation (Result lies in the same space)\n",
    "v = np.array([4, 5,6])\n",
    "v1 = np.array([4,\n",
    "              5,\n",
    "              6])\n",
    "print(v + v1, '\\n')\n",
    "print(np.add(v,v1))"
   ]
  },
  {
   "cell_type": "code",
   "execution_count": 4,
   "metadata": {},
   "outputs": [
    {
     "name": "stdout",
     "output_type": "stream",
     "text": [
      "[4 5 6]\n",
      "[4 5 6]\n"
     ]
    }
   ],
   "source": [
    "#Linear algebra makes a distinction between \"row vectors\" and \"column vectors\".\n",
    "#There is no such disctinction in NumPy\n",
    "#Demonstrating the transpose of 1D array\n",
    "print(v)\n",
    "print(v.T)"
   ]
  },
  {
   "cell_type": "code",
   "execution_count": 6,
   "metadata": {},
   "outputs": [
    {
     "name": "stdout",
     "output_type": "stream",
     "text": [
      "(3, 1) \n",
      "\n",
      "[[1 2 3]] \n",
      "\n",
      "(1, 3)\n"
     ]
    }
   ],
   "source": [
    "#Numpy's notion of transposition matches up nicely with linear algebra noticeably\n",
    "#Hence a vector is represented in numpy 2D array\n",
    "#Demonstrating transpose of 2D array\n",
    "#Creata a column vector\n",
    "\n",
    "v2=np.array([[1],\n",
    "            [2],\n",
    "            [3]])\n",
    "print(v2.shape, '\\n')\n",
    "print(v2.T, '\\n')\n",
    "print((v2.T).shape)"
   ]
  },
  {
   "cell_type": "code",
   "execution_count": 8,
   "metadata": {},
   "outputs": [
    {
     "name": "stdout",
     "output_type": "stream",
     "text": [
      "Examples of addition between 2 column vectors\n",
      "[[2]\n",
      " [4]\n",
      " [6]] \n",
      "\n",
      "[[2]\n",
      " [4]\n",
      " [6]] \n",
      "\n",
      "Addition between column and row vectors\n",
      "[[2 3 4]\n",
      " [3 4 5]\n",
      " [4 5 6]]\n"
     ]
    }
   ],
   "source": [
    "#2-D array addition\n",
    "\n",
    "#Addition between 2 colum vectors\n",
    "print(\"Examples of addition between 2 column vectors\")\n",
    "print(v2 + v2, '\\n')\n",
    "print(np.add(v2,v2), '\\n')\n",
    "\n",
    "print(\"Addition between column and row vectors\")\n",
    "#Addition between column and row vectors\n",
    "print(v2+v2.T)\n"
   ]
  },
  {
   "cell_type": "code",
   "execution_count": 11,
   "metadata": {},
   "outputs": [
    {
     "name": "stdout",
     "output_type": "stream",
     "text": [
      "[2 3 4] \n",
      "\n",
      "Shape of a three element V3 row vector \n",
      "\n",
      "(3,)\n"
     ]
    }
   ],
   "source": [
    "#Defining a 2D array for row vectors\n",
    "\n",
    "v3 = np.array([2, 3, 4]) #Row vector\n",
    "print(v3, '\\n')\n",
    "print(\"Shape of a three element V3 row vector \\n\")\n",
    "print(v3.shape)"
   ]
  },
  {
   "cell_type": "code",
   "execution_count": 12,
   "metadata": {},
   "outputs": [
    {
     "name": "stdout",
     "output_type": "stream",
     "text": [
      "Addition of 3 element row vectors \n",
      "\n",
      "[4 6 8] \n",
      "\n"
     ]
    }
   ],
   "source": [
    "#Addition of 2D array row vectors\n",
    "print(\"Addition of 3 element row vectors \\n\")\n",
    "print(v3 + v3, '\\n')"
   ]
  },
  {
   "cell_type": "code",
   "execution_count": 13,
   "metadata": {},
   "outputs": [
    {
     "name": "stdout",
     "output_type": "stream",
     "text": [
      "Dimension of 1D array \n",
      "\n",
      "(3,) \n",
      "\n",
      "Dimesnion of 2D array \n",
      "\n",
      "(3, 1) \n",
      "\n",
      "Examples of addition between 1D array and 2D array \n",
      "\n",
      "[[5 6 7]\n",
      " [6 7 8]\n",
      " [7 8 9]] \n",
      "\n",
      "Shape of above summation result \n",
      "\n",
      "(3, 3)\n"
     ]
    }
   ],
   "source": [
    "print('Dimension of 1D array \\n')\n",
    "print(v1.shape, '\\n')\n",
    "print(\"Dimesnion of 2D array \\n\")\n",
    "print(v2.shape, '\\n')\n",
    "print(\"Examples of addition between 1D array and 2D array\", '\\n')\n",
    "#print(v1+v2, '\\n')\n",
    "print(np.add(v1,v2), '\\n')\n",
    "print(\"Shape of above summation result\", '\\n')\n",
    "print((v1+v2).shape)"
   ]
  },
  {
   "cell_type": "code",
   "execution_count": 14,
   "metadata": {},
   "outputs": [
    {
     "name": "stdout",
     "output_type": "stream",
     "text": [
      "Addition between (1,3) array and (4,1) array \n",
      "\n",
      "[[ 6  7  8]\n",
      " [ 7  8  9]\n",
      " [ 8  9 10]\n",
      " [ 9 10 11]] \n",
      "\n"
     ]
    }
   ],
   "source": [
    "#Addition of 3 element row vector to 4 element column vector\n",
    "v4 = ([4], [5], [6], [7])\n",
    "print(\"Addition between (1,3) array and (4,1) array \\n\")\n",
    "print((v3+v4), '\\n')"
   ]
  },
  {
   "cell_type": "code",
   "execution_count": 15,
   "metadata": {},
   "outputs": [
    {
     "name": "stdout",
     "output_type": "stream",
     "text": [
      "Addition between (4,1) array and (1,3) array \n",
      "\n",
      "[[ 6  7  8]\n",
      " [ 7  8  9]\n",
      " [ 8  9 10]\n",
      " [ 9 10 11]] \n",
      "\n"
     ]
    }
   ],
   "source": [
    "print(\"Addition between (4,1) array and (1,3) array \\n\")\n",
    "print((v4+v3), '\\n')"
   ]
  },
  {
   "cell_type": "code",
   "execution_count": 16,
   "metadata": {},
   "outputs": [
    {
     "name": "stdout",
     "output_type": "stream",
     "text": [
      "Addition of 4 element (4,1) array with 3 element \n"
     ]
    }
   ],
   "source": [
    "print('Addition of 4 element (4,1) array with 3 element (3,) array')\n"
   ]
  },
  {
   "cell_type": "code",
   "execution_count": null,
   "metadata": {},
   "outputs": [],
   "source": [
    "v5  = np.array([[[1.5, 2, 3], ]])"
   ]
  },
  {
   "cell_type": "code",
   "execution_count": 17,
   "metadata": {},
   "outputs": [
    {
     "name": "stdout",
     "output_type": "stream",
     "text": [
      "Shape of v2 is:  (3, 1) \n",
      "\n"
     ]
    },
    {
     "ename": "NameError",
     "evalue": "name 'v5' is not defined",
     "output_type": "error",
     "traceback": [
      "\u001b[1;31m---------------------------------------------------------------------------\u001b[0m",
      "\u001b[1;31mNameError\u001b[0m                                 Traceback (most recent call last)",
      "\u001b[1;32m<ipython-input-17-67127b12100f>\u001b[0m in \u001b[0;36m<module>\u001b[1;34m\u001b[0m\n\u001b[0;32m      1\u001b[0m \u001b[1;31m#however the following addition is not possible\u001b[0m\u001b[1;33m\u001b[0m\u001b[1;33m\u001b[0m\u001b[1;33m\u001b[0m\u001b[0m\n\u001b[0;32m      2\u001b[0m \u001b[0mprint\u001b[0m\u001b[1;33m(\u001b[0m\u001b[1;34m\"Shape of v2 is: \"\u001b[0m\u001b[1;33m,\u001b[0m \u001b[0mv2\u001b[0m\u001b[1;33m.\u001b[0m\u001b[0mshape\u001b[0m\u001b[1;33m,\u001b[0m \u001b[1;34m'\\n'\u001b[0m\u001b[1;33m)\u001b[0m\u001b[1;33m\u001b[0m\u001b[1;33m\u001b[0m\u001b[0m\n\u001b[1;32m----> 3\u001b[1;33m \u001b[0mprint\u001b[0m\u001b[1;33m(\u001b[0m\u001b[0mv5\u001b[0m\u001b[1;33m+\u001b[0m\u001b[0mv2\u001b[0m\u001b[1;33m)\u001b[0m\u001b[1;33m\u001b[0m\u001b[1;33m\u001b[0m\u001b[0m\n\u001b[0m",
      "\u001b[1;31mNameError\u001b[0m: name 'v5' is not defined"
     ]
    }
   ],
   "source": [
    "#However the following addition is not possible\n",
    "print(\"Shape of v2 is: \", v2.shape, '\\n')\n",
    "print(v5+v2)"
   ]
  },
  {
   "cell_type": "code",
   "execution_count": 20,
   "metadata": {},
   "outputs": [
    {
     "name": "stdout",
     "output_type": "stream",
     "text": [
      "Shape of v6\n",
      "(3, 3, 3)\n",
      "(3,)\n",
      "(3, 1)\n"
     ]
    }
   ],
   "source": [
    "#3D Array\n",
    "\n",
    "v6 = np.array([[[1,2,3], [4,5,6], [7,8,9]], [[2,4,5], [1,3,6], [8,6,7]], [[7,8,9], [8,7,9], [2,3,4]]])\n",
    "print(\"Shape of v6\")\n",
    "print(v6.shape)\n",
    "print(v3.shape)\n",
    "print(v2.shape)"
   ]
  },
  {
   "cell_type": "code",
   "execution_count": null,
   "metadata": {},
   "outputs": [],
   "source": []
  }
 ],
 "metadata": {
  "kernelspec": {
   "display_name": "Python 3",
   "language": "python",
   "name": "python3"
  },
  "language_info": {
   "codemirror_mode": {
    "name": "ipython",
    "version": 3
   },
   "file_extension": ".py",
   "mimetype": "text/x-python",
   "name": "python",
   "nbconvert_exporter": "python",
   "pygments_lexer": "ipython3",
   "version": "3.7.4"
  }
 },
 "nbformat": 4,
 "nbformat_minor": 2
}
