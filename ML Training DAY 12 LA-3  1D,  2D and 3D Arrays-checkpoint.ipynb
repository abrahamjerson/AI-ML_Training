{
 "cells": [
  {
   "cell_type": "code",
   "execution_count": 5,
   "metadata": {},
   "outputs": [],
   "source": [
    " #NP LA-2 - 1D, 2D and 3D Arrays\n",
    "\n",
    "#\"Numeric Python\" or \"Numerical Python\"\n",
    "#Array Basics\n",
    "\n",
    "\"\"\"\n",
    "An array vaiable contains information about raw data, on how to locate an element and interpret the element\"\"\"\n",
    "\n",
    "import numpy as np \n",
    "\n",
    "#Id arrays\n",
    "\n",
    "a = np.array([1, 2, 3]) #Creates a rank 1 array"
   ]
  },
  {
   "cell_type": "code",
   "execution_count": 6,
   "metadata": {},
   "outputs": [
    {
     "name": "stdout",
     "output_type": "stream",
     "text": [
      "Shape of an array = (3,)\n",
      "Total number of elements =  3\n"
     ]
    }
   ],
   "source": [
    "\"\"\"The shape of an array is a tuple of integers giving the size of the array along each dimension.\"\"\"\n",
    "\n",
    "#Shape of an array\n",
    "print(\"Shape of an array =\", a.shape)\n",
    "\n",
    "#Total number of elements\n",
    "print(\"Total number of elements = \",a.size)"
   ]
  },
  {
   "cell_type": "code",
   "execution_count": 7,
   "metadata": {},
   "outputs": [
    {
     "name": "stdout",
     "output_type": "stream",
     "text": [
      "The dimension of array =  1\n"
     ]
    }
   ],
   "source": [
    "#The number of dimensions is the rank of the array\n",
    "\n",
    "#Dimension of the array\n",
    "print(\"The dimension of array = \", a.ndim)"
   ]
  },
  {
   "cell_type": "code",
   "execution_count": 8,
   "metadata": {},
   "outputs": [
    {
     "name": "stdout",
     "output_type": "stream",
     "text": [
      "Type of variable -a-  <class 'numpy.ndarray'>\n",
      "Data type of array variable =  int32\n"
     ]
    }
   ],
   "source": [
    "#Type array variable -a \n",
    "print(\"Type of variable -a- \", type(a)) #Prints \"\"<<class 'numpy.ndarray'>>\"\"\n",
    "\n",
    "#Data type of array variable\n",
    "print(\"Data type of array variable = \",a.dtype)"
   ]
  },
  {
   "cell_type": "code",
   "execution_count": 10,
   "metadata": {},
   "outputs": [
    {
     "data": {
      "text/plain": [
       "array([2., 3., 4., 5., 6., 7., 8., 9.])"
      ]
     },
     "execution_count": 10,
     "metadata": {},
     "output_type": "execute_result"
    }
   ],
   "source": [
    "#Create a float type array\n",
    "\n",
    "np.arange(2, 10, dtype=np.float)"
   ]
  },
  {
   "cell_type": "code",
   "execution_count": 11,
   "metadata": {},
   "outputs": [
    {
     "data": {
      "text/plain": [
       "array([1.+0.j, 2.+0.j, 3.+0.j])"
      ]
     },
     "execution_count": 11,
     "metadata": {},
     "output_type": "execute_result"
    }
   ],
   "source": [
    "#Create a complex type array\n",
    "\n",
    "np.array([1,2,3],dtype=complex)"
   ]
  },
  {
   "cell_type": "code",
   "execution_count": 12,
   "metadata": {},
   "outputs": [
    {
     "name": "stdout",
     "output_type": "stream",
     "text": [
      "[]\n",
      "1\n",
      "[]\n",
      "1\n"
     ]
    }
   ],
   "source": [
    "#Create a one dimensional numpy array with one element\n",
    "\n",
    "ab=np.empty([0])\n",
    "print(ab)\n",
    "print(ab.ndim)\n",
    "aa=np.arange(0)\n",
    "print(aa)\n",
    "print(aa.ndim)"
   ]
  },
  {
   "cell_type": "code",
   "execution_count": 13,
   "metadata": {},
   "outputs": [
    {
     "name": "stdout",
     "output_type": "stream",
     "text": [
      "<memory at 0x0000028DFD0C9648>\n"
     ]
    }
   ],
   "source": [
    "print(a.data)"
   ]
  },
  {
   "cell_type": "code",
   "execution_count": 14,
   "metadata": {},
   "outputs": [
    {
     "name": "stdout",
     "output_type": "stream",
     "text": [
      "(4,)\n"
     ]
    }
   ],
   "source": [
    "print(a.strides)"
   ]
  },
  {
   "cell_type": "code",
   "execution_count": 15,
   "metadata": {},
   "outputs": [
    {
     "name": "stdout",
     "output_type": "stream",
     "text": [
      "[5 2 3]\n"
     ]
    }
   ],
   "source": [
    "a[0]=5\n",
    "print(a)"
   ]
  },
  {
   "cell_type": "code",
   "execution_count": 16,
   "metadata": {},
   "outputs": [
    {
     "name": "stdout",
     "output_type": "stream",
     "text": [
      "5 2 3\n",
      "[5 2 3]\n"
     ]
    }
   ],
   "source": [
    "#Accessing each element in the 1D array\n",
    "\n",
    "print(a[0], a[1], a[2])#Prints 1,2 and 3\n",
    "a[0] - 5 #Change an element of the arra\n",
    "print(a) #Prints \"[5, 2, 3]\""
   ]
  },
  {
   "cell_type": "code",
   "execution_count": 26,
   "metadata": {},
   "outputs": [
    {
     "name": "stdout",
     "output_type": "stream",
     "text": [
      "Shape of array: (3,)\n",
      "Elements in array: 3\n",
      "Data type of the array is: 1\n",
      "No: of bytes proceeded to the next row: (4,)\n"
     ]
    }
   ],
   "source": [
    "a1 = np.array([4, 5, 6])\n",
    "\n",
    "#Shape of array\n",
    "print('Shape of array:', a1.shape)\n",
    "#Total number of elements in the array\n",
    "print('Elements in array:', a1.size)\n",
    "#Dimension of the arraty\n",
    "print(\"Data type of the array is:\", a1.ndim)\n",
    "print(\"No: of bytes proceeded to the next row:\", a1.strides)"
   ]
  },
  {
   "cell_type": "code",
   "execution_count": 23,
   "metadata": {},
   "outputs": [
    {
     "name": "stdout",
     "output_type": "stream",
     "text": [
      "Shape of the array =  (3, 1)\n",
      "Elemnts in the array = 3\n",
      "Dimension of the array = 2\n",
      "No: of bytes proceeded to the next row:  4\n",
      "No: of bytes proceeded to the next row:  4\n"
     ]
    }
   ],
   "source": [
    "#More than one dimension\n",
    "#Minimum two dimensional array\n",
    "#Creates a rank 2 array\n",
    "b1 = np.array([[1],\n",
    "             [2],\n",
    "             [3]])\n",
    "#Shape of the array\n",
    "print(\"Shape of the array = \", b1.shape)\n",
    "#Total number of elements in the array\n",
    "print(\"Elemnts in the array =\", b1.size)\n",
    "#Dimension of the array\n",
    "print('Dimension of the array =', b1.ndim)\n",
    "print(\"No: of bytes proceeded to the next row: \", b1.strides[0])\n",
    "print(\"No: of bytes proceeded to the next row: \", b1.strides[1])"
   ]
  },
  {
   "cell_type": "code",
   "execution_count": 25,
   "metadata": {},
   "outputs": [
    {
     "name": "stdout",
     "output_type": "stream",
     "text": [
      "Shape of the array =  (3, 1)\n",
      "Elemnts in the array = 3\n",
      "Dimension of the array = 2\n"
     ]
    }
   ],
   "source": [
    "b2 = np.array([[1],[2],[3]])\n",
    "\n",
    "#Shape of the array\n",
    "print(\"Shape of the array = \", b2.shape)\n",
    "#Total number of elements in the array\n",
    "print(\"Elemnts in the array =\", b2.size)\n",
    "#Dimension of the array\n",
    "print('Dimension of the array =', b2.ndim)"
   ]
  },
  {
   "cell_type": "code",
   "execution_count": 28,
   "metadata": {},
   "outputs": [
    {
     "name": "stdout",
     "output_type": "stream",
     "text": [
      "Shape of the array = (3, 5)\n",
      "Elemnts in the array = 15\n",
      "Dimension of the array = 2\n"
     ]
    },
    {
     "ename": "AttributeError",
     "evalue": "'numpy.ndarray' object has no attribute 'type'",
     "output_type": "error",
     "traceback": [
      "\u001b[1;31m---------------------------------------------------------------------------\u001b[0m",
      "\u001b[1;31mAttributeError\u001b[0m                            Traceback (most recent call last)",
      "\u001b[1;32m<ipython-input-28-d0bfc8d829af>\u001b[0m in \u001b[0;36m<module>\u001b[1;34m\u001b[0m\n\u001b[0;32m      7\u001b[0m \u001b[0mprint\u001b[0m\u001b[1;33m(\u001b[0m\u001b[1;34m'Dimension of the array ='\u001b[0m\u001b[1;33m,\u001b[0m \u001b[0mb\u001b[0m\u001b[1;33m.\u001b[0m\u001b[0mndim\u001b[0m\u001b[1;33m)\u001b[0m\u001b[1;33m\u001b[0m\u001b[1;33m\u001b[0m\u001b[0m\n\u001b[0;32m      8\u001b[0m \u001b[1;31m#Print array data type\u001b[0m\u001b[1;33m\u001b[0m\u001b[1;33m\u001b[0m\u001b[1;33m\u001b[0m\u001b[0m\n\u001b[1;32m----> 9\u001b[1;33m \u001b[0mprint\u001b[0m\u001b[1;33m(\u001b[0m\u001b[1;34m\"Data type is:\"\u001b[0m\u001b[1;33m,\u001b[0m \u001b[0mb\u001b[0m\u001b[1;33m.\u001b[0m\u001b[0mtype\u001b[0m\u001b[1;33m)\u001b[0m\u001b[1;33m\u001b[0m\u001b[1;33m\u001b[0m\u001b[0m\n\u001b[0m\u001b[0;32m     10\u001b[0m \u001b[1;31m#Print out the stride of 'b'\u001b[0m\u001b[1;33m\u001b[0m\u001b[1;33m\u001b[0m\u001b[1;33m\u001b[0m\u001b[0m\n\u001b[0;32m     11\u001b[0m \u001b[0mprint\u001b[0m\u001b[1;33m(\u001b[0m\u001b[1;34m\"No: of bytes to the next column elemnt: \"\u001b[0m\u001b[1;33m,\u001b[0m \u001b[0mb\u001b[0m\u001b[1;33m.\u001b[0m\u001b[0mstrides\u001b[0m\u001b[1;33m[\u001b[0m\u001b[1;36m1\u001b[0m\u001b[1;33m]\u001b[0m\u001b[1;33m)\u001b[0m\u001b[1;33m\u001b[0m\u001b[1;33m\u001b[0m\u001b[0m\n",
      "\u001b[1;31mAttributeError\u001b[0m: 'numpy.ndarray' object has no attribute 'type'"
     ]
    }
   ],
   "source": [
    "b = np.array([[1.5,2,3,4,7], [4,5,6,7,9], [6,7,8,9,8]])\n",
    "\n",
    "print(\"Shape of the array =\", b.shape)\n",
    "#Total number of elements in the array\n",
    "print(\"Elemnts in the array =\", b.size)\n",
    "#Dimension of the array\n",
    "print('Dimension of the array =', b.ndim)\n",
    "#Print array data type\n",
    "print(\"Data type is:\", b.type)\n",
    "#Print out the stride of 'b'\n",
    "print(\"No: of bytes to the next column elemnt: \", b.strides[1])\n",
    "print(\"No: of bytes to the next column row: \", b.strides[0])"
   ]
  },
  {
   "cell_type": "code",
   "execution_count": 34,
   "metadata": {},
   "outputs": [
    {
     "name": "stdout",
     "output_type": "stream",
     "text": [
      "[[[1.5 2.  3. ]\n",
      "  [4.  5.  6. ]]\n",
      "\n",
      " [[2.  4.  5. ]\n",
      "  [1.  3.  6. ]]\n",
      "\n",
      " [[7.  8.  9. ]\n",
      "  [9.  8.1 7. ]]]\n"
     ]
    }
   ],
   "source": [
    "# 3D Array\n",
    "\n",
    "c = np.array([[[1.5, 2, 3], [4,5,6]], [[2,4,5], [1,3,6]], [[7,8,9], [9,8.1,7]]])\n",
    "print(c)"
   ]
  },
  {
   "cell_type": "code",
   "execution_count": 35,
   "metadata": {},
   "outputs": [
    {
     "name": "stdout",
     "output_type": "stream",
     "text": [
      "Shape of the array = (3, 2, 3)\n",
      "Elements in the array = 18\n",
      "Dimension of array = 3\n",
      "No: of bytes proceeded to column elements:  8\n",
      "No: of bytes proceeded to next row:  24\n",
      "No; of bytes proceeded to 2D array:  48\n"
     ]
    }
   ],
   "source": [
    "#Shape of the array\n",
    "print('Shape of the array =', c.shape)\n",
    "#Total number of elements in the array\n",
    "print(\"Elements in the array =\", c.size)\n",
    "#Dimension of the array\n",
    "print('Dimension of array =', c.ndim)\n",
    "\n",
    "print(\"No: of bytes proceeded to column elements: \", c.strides[2])\n",
    "print(\"No: of bytes proceeded to next row: \", c.strides[1])\n",
    "print(\"No; of bytes proceeded to 2D array: \", c.strides[0])"
   ]
  }
 ],
 "metadata": {
  "kernelspec": {
   "display_name": "Python 3",
   "language": "python",
   "name": "python3"
  },
  "language_info": {
   "codemirror_mode": {
    "name": "ipython",
    "version": 3
   },
   "file_extension": ".py",
   "mimetype": "text/x-python",
   "name": "python",
   "nbconvert_exporter": "python",
   "pygments_lexer": "ipython3",
   "version": "3.7.4"
  }
 },
 "nbformat": 4,
 "nbformat_minor": 2
}
