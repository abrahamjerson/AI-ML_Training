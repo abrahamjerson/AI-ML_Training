{
 "cells": [
  {
   "cell_type": "code",
   "execution_count": 3,
   "metadata": {},
   "outputs": [],
   "source": [
    "from sklearn.datasets import load_digits\n",
    "from sklearn.linear_model import Perceptron\n",
    "import matplotlib.pyplot as plt"
   ]
  },
  {
   "cell_type": "code",
   "execution_count": 5,
   "metadata": {},
   "outputs": [],
   "source": [
    "X, y = load_digits(return_X_y= True)"
   ]
  },
  {
   "cell_type": "code",
   "execution_count": 8,
   "metadata": {},
   "outputs": [],
   "source": [
    "#1e-3 = 0.001\n",
    "clf = Perceptron(tol = 1e-3, random_state =0)"
   ]
  },
  {
   "cell_type": "code",
   "execution_count": 10,
   "metadata": {},
   "outputs": [
    {
     "data": {
      "text/plain": [
       "Perceptron(alpha=0.0001, class_weight=None, early_stopping=False, eta0=1.0,\n",
       "           fit_intercept=True, max_iter=1000, n_iter_no_change=5, n_jobs=None,\n",
       "           penalty=None, random_state=0, shuffle=True, tol=0.001,\n",
       "           validation_fraction=0.1, verbose=0, warm_start=False)"
      ]
     },
     "execution_count": 10,
     "metadata": {},
     "output_type": "execute_result"
    }
   ],
   "source": [
    "\"\"\"\n",
    "alpha: float, default=0.0001\n",
    "       Constant that multiplies the regularization term if regularization is used\n",
    "\n",
    "class_weight: dict, {class_label: weight} or “balanced”, default=None\n",
    "              Preset for the class_weight fit parameter.\n",
    "              Weights associated with classes. If not given, all classes are supposed to have weight one.\n",
    "              The “balanced” mode uses the values of y to automatically adjust weights inversely proportional to class frequencies in the input data as n_samples / (n_classes * np.bincount(y))\n",
    "\n",
    "early_stopping: bool, default=False\n",
    "                Whether to use early stopping to terminate training when validation. score is not improving. If set to True, it will automatically set aside a stratified fraction of training data as validation and terminate training when validation score is not improving by at least tol for n_iter_no_change consecutive epochs\n",
    "\n",
    "eta: double, default=1\n",
    "     Constant by which the updates are multiplied or the learning rate\n",
    "\n",
    "fit_intercept: bool, default=True\n",
    "               Whether the intercept should be estimated or not. If False, the data is assumed to be already centered\n",
    "\n",
    "max_iter: int, default=1000\n",
    "          The maximum number of passes over the training data (aka epochs)\n",
    "\n",
    "n_iter: int\n",
    "        The actual number of iterations to reach the stopping criterion\n",
    "\n",
    "n_iter_no_change: int, default=5\n",
    "                  Number of iterations with no improvement to wait before early stopping\n",
    "\n",
    "n_jobs: int, default=None\n",
    "        The number of CPUs to use to do the OVA (One Versus All, for multi-class problems) computation. None means 1 unless in a joblib.parallel_backend context. -1 means using all processors\n",
    "\n",
    "penality: {‘l2’,’l1’,’elasticnet’}, default=None\n",
    "          The penalty (aka regularization term) to be used (l2, l1, elaticent)\n",
    "\n",
    "random_state: int, RandomState instance, default=None\n",
    "              Used to shuffle the training data, when shuffle is set to True. Pass an int for reproducible output across multiple function calls\n",
    "\n",
    "shuffle: bool, default=True\n",
    "         Whether or not the training data should be shuffled after each epoch\n",
    "\n",
    "tol: float, default=1e-3\n",
    "     Whether or not the training data should be shuffled after each epoch\n",
    "\n",
    "validation_fraction: float, default=0.1\n",
    "                     The proportion of training data to set aside as validation set for early stopping. Must be between 0 and 1. Only used if early_stopping is True\n",
    "\n",
    "verbose: int, default=0\n",
    "         The verbosity level (An integer value, by default = 0)\n",
    "\n",
    "warm_restart: bool, default=False\n",
    "              When set to True, reuse the solution of the previous call to fit as initialization, otherwise, just erase the previous solution\n",
    "\"\"\"\n",
    "\n",
    "#Training the model\n",
    "\n",
    "clf.fit(X, y)"
   ]
  },
  {
   "cell_type": "code",
   "execution_count": 11,
   "metadata": {},
   "outputs": [
    {
     "data": {
      "text/plain": [
       "(64,)"
      ]
     },
     "execution_count": 11,
     "metadata": {},
     "output_type": "execute_result"
    }
   ],
   "source": [
    "X[0, :].shape"
   ]
  },
  {
   "cell_type": "code",
   "execution_count": 18,
   "metadata": {},
   "outputs": [
    {
     "data": {
      "image/png": "[encoded data removed]",
      "text/plain": [
       "<Figure size 432x288 with 1 Axes>"
      ]
     },
     "metadata": {
      "needs_background": "light"
     },
     "output_type": "display_data"
    },
    {
     "data": {
      "text/plain": [
       "0"
      ]
     },
     "execution_count": 18,
     "metadata": {},
     "output_type": "execute_result"
    }
   ],
   "source": [
    "ximagelist = X[0, :].reshape(8, 8)\n",
    "im = plt.imshow(ximagelist, cmap='Greys')\n",
    "plt.show()\n",
    "y[0]"
   ]
  },
  {
   "cell_type": "code",
   "execution_count": 21,
   "metadata": {},
   "outputs": [
    {
     "data": {
      "text/plain": [
       "array([0])"
      ]
     },
     "execution_count": 21,
     "metadata": {},
     "output_type": "execute_result"
    }
   ],
   "source": [
    "clf.predict(X[0:1])"
   ]
  }
 ],
 "metadata": {
  "kernelspec": {
   "display_name": "Python 3",
   "language": "python",
   "name": "python3"
  },
  "language_info": {
   "codemirror_mode": {
    "name": "ipython",
    "version": 3
   },
   "file_extension": ".py",
   "mimetype": "text/x-python",
   "name": "python",
   "nbconvert_exporter": "python",
   "pygments_lexer": "ipython3",
   "version": "3.7.4"
  }
 },
 "nbformat": 4,
 "nbformat_minor": 2
}
